{
  "cells": [
    {
      "cell_type": "markdown",
      "metadata": {
        "id": "mALEfpx54K7d"
      },
      "source": [
        "## Importação das bibliotecas"
      ]
    },
    {
      "cell_type": "code",
      "execution_count": 1,
      "metadata": {
        "id": "aOn4IXXnGRBg"
      },
      "outputs": [],
      "source": [
        "# http://pytorch.org/\n",
        "from os.path import exists\n",
        "\n",
        "import torch"
      ]
    },
    {
      "cell_type": "code",
      "execution_count": 2,
      "metadata": {
        "id": "WN69WSbu4K7f"
      },
      "outputs": [],
      "source": [
        "\n",
        "import argparse\n",
        "import torch\n",
        "import torch.nn as nn\n",
        "import torch.nn.functional as F\n",
        "import torch.optim as optim\n",
        "from torchvision import datasets, transforms\n",
        "from torchvision.transforms import v2\n",
        "from torch.utils.data import Dataset, random_split\n",
        "from torch.optim.lr_scheduler import StepLR\n",
        "from PIL import UnidentifiedImageError\n",
        "from tqdm import tqdm  # Barra de progresso (opcional, mas útil)\n",
        "import matplotlib.pyplot as plt\n",
        "import numpy as np\n",
        "import pandas as pd\n",
        "from sklearn.preprocessing import LabelEncoder, MinMaxScaler, StandardScaler\n",
        "from sklearn.model_selection import train_test_split\n",
        "\n",
        "from sklearn.metrics import classification_report\n",
        "from sklearn.metrics import confusion_matrix, ConfusionMatrixDisplay, accuracy_score\n",
        "\n",
        "import torch.nn.init as init"
      ]
    },
    {
      "cell_type": "markdown",
      "metadata": {
        "id": "sJ8iRXQXLEkv"
      },
      "source": [
        "# Importação dos Dados"
      ]
    },
    {
      "cell_type": "markdown",
      "source": [
        "https://www.kaggle.com/datasets/sartajbhuvaji/brain-tumor-classification-mri/data\n",
        "\n",
        "Os dados foram obtidos do link acima.\n",
        "\n",
        "\n",
        "Um tumor cerebral é considerado uma das doenças agressivas, tanto em crianças quanto em adultos. Os tumores cerebrais representam de 85 a 90 por cento de todos os tumores primários do Sistema Nervoso Central (SNC).\n",
        "\n",
        "Todos os anos, cerca de 11.700 pessoas são diagnosticadas com um tumor cerebral. A taxa de sobrevivência em 5 anos para pessoas com um tumor cancerígeno no cérebro ou no SNC é de aproximadamente 34% para homens e 36% para mulheres. Os Tumores Cerebrais são classificados como: Tumor Benigno, Tumor Maligno, Tumor Hipofisário, etc.\n",
        "\n",
        "Tratamento adequado, planejamento e diagnósticos precisos devem ser implementados para melhorar a expectativa de vida dos pacientes. A melhor técnica para detectar tumores cerebrais é a Ressonância Magnética (RM). Uma enorme quantidade de dados de imagem é gerada através das tomografias. Essas imagens são examinadas pelo radiologista. Um exame manual pode ser propenso a erros devido ao nível de complexidade envolvido nos tumores cerebrais e suas propriedades.\n",
        "\n",
        "A aplicação de técnicas de classificação automatizada usando Machine Learning (ML) e Inteligência Artificial (IA) tem mostrado consistentemente maior precisão do que a classificação manual. Portanto, propor um sistema que realize detecção e classificação utilizando Algoritmos de Aprendizado Profundo com Rede Neural Convolucional (CNN), Rede Neural Artificial (ANN) e Aprendizado por Transferência (TL) seria útil para médicos em todo o mundo."
      ],
      "metadata": {
        "id": "HClDJzmo6wpz"
      }
    },
    {
      "cell_type": "code",
      "execution_count": 3,
      "metadata": {
        "id": "gsBZMPPILHBx",
        "colab": {
          "base_uri": "https://localhost:8080/"
        },
        "outputId": "ba743852-f5f6-45b3-cc81-a342d74182c9"
      },
      "outputs": [
        {
          "output_type": "stream",
          "name": "stdout",
          "text": [
            "  % Total    % Received % Xferd  Average Speed   Time    Time     Time  Current\n",
            "                                 Dload  Upload   Total   Spent    Left  Speed\n",
            "  0     0    0     0    0     0      0      0 --:--:-- --:--:-- --:--:--     0\n",
            "100 86.7M  100 86.7M    0     0  82.9M      0  0:00:01  0:00:01 --:--:--  134M\n"
          ]
        }
      ],
      "source": [
        "\n",
        "!curl -L -o /content/brain-tumor-classification-mri.zip   https://www.kaggle.com/api/v1/datasets/download/sartajbhuvaji/brain-tumor-classification-mri"
      ]
    },
    {
      "cell_type": "code",
      "execution_count": 4,
      "metadata": {
        "id": "_O6EtlQrLX24"
      },
      "outputs": [],
      "source": [
        "!unzip -q -o /content/brain-tumor-classification-mri.zip -d /content/brain-tumor-classification-mri\n"
      ]
    },
    {
      "cell_type": "code",
      "execution_count": 5,
      "metadata": {
        "id": "GFHMuoj3LhoK"
      },
      "outputs": [],
      "source": [
        "#Esse projeto utilizara os dados contidos na pasta Training\n",
        "\n",
        "brain_tumor_folder_train = \"/content/brain-tumor-classification-mri/Training\"\n"
      ]
    },
    {
      "cell_type": "markdown",
      "source": [
        "#Metodologia do Projeto"
      ],
      "metadata": {
        "id": "9-OdutKOGISj"
      }
    },
    {
      "cell_type": "markdown",
      "source": [
        "**Objetivo do Projeto**: Criação e Treinamento de Redes Neurais para realizar a classificação correta das imagens de exames de ressonância magnética cerebrais.\n",
        "\n",
        "**Metodologia utilizada**\n",
        "\n",
        "\n",
        "* Os Dados originais foram divididos em 2 datasets (Treino e Teste - 70% Treino e 30% Teste)\n",
        "* Foram realizadas transformações nas imagens para serem usadas como entradas da rede (redimensionalização, transformação para escala de cinza)\n",
        "* Foram criados data_loaders para dividir os dados em mini_batch e aprimorar o treinamento do modelo\n",
        "* Foi criada uma rede neural para realizar a classificação das imagens usando hidden layers e função de ativação Relu\n",
        "* A rede foi treinada com os dados de treino e testadas com os dados de teste.\n",
        "* A avaliação foi feita com base na eficácia do modelo para os dois cenários (Treino e Teste)\n",
        "* Durante o treinamento foram testados e avaliados diferentes parâmetros de learning rate (utilizando ajustes dinâmicos com StepLR), batch_size, optimizers.\n",
        "* A solução apresentada nesse projeto é a combinação dos parâmetros que apresentou bons resultados em teste e treino com baixo overfitting ou underfitting\n",
        "\n"
      ],
      "metadata": {
        "id": "Luw5aFRGGKXD"
      }
    },
    {
      "cell_type": "markdown",
      "source": [
        "#Criação de Datasets de Treino e Teste"
      ],
      "metadata": {
        "id": "BNz1oBaK7xNJ"
      }
    },
    {
      "cell_type": "code",
      "execution_count": 6,
      "metadata": {
        "id": "cQU72_IshSAG"
      },
      "outputs": [],
      "source": [
        "#Transform a ser aplicados nas imagens originais\n",
        "\n",
        "transform = transforms.Compose([\n",
        "    transforms.Resize((128, 128)),\n",
        "    transforms.ToTensor(),\n",
        "    transforms.Grayscale(),\n",
        "    transforms.RandomHorizontalFlip(p= 0.5),\n",
        "    transforms.Normalize(mean=[0.5],std=[0.5])\n",
        "\n",
        "])\n",
        "\n"
      ]
    },
    {
      "cell_type": "code",
      "execution_count": 7,
      "metadata": {
        "id": "0pXks6a8hSCL"
      },
      "outputs": [],
      "source": [
        "#Subclasse personalizada para avaliar dificuldade em abrir alguma imagem\n",
        "\n",
        "class Dataset(datasets.ImageFolder):\n",
        "  def __getitem__(self, index):\n",
        "    try:\n",
        "      return super(Dataset, self).__getitem__(index)\n",
        "    except UnidentifiedImageError:\n",
        "      print(f\"Pulou Imagem problematica no indice {index}\")\n",
        "      return None"
      ]
    },
    {
      "cell_type": "code",
      "source": [
        "#Criação do Dataset e sua divisão em treino e teste (70/30)\n",
        "\n",
        "dataset = Dataset(brain_tumor_folder_train, transform)\n",
        "dataset_train, dataset_test = random_split(dataset, [0.7, 0.3], generator=torch.Generator().manual_seed(200))"
      ],
      "metadata": {
        "id": "XFTW1HMl_ipg"
      },
      "execution_count": 8,
      "outputs": []
    },
    {
      "cell_type": "code",
      "source": [
        "dataset.classes"
      ],
      "metadata": {
        "colab": {
          "base_uri": "https://localhost:8080/"
        },
        "id": "S8Y-AsCP4jpc",
        "outputId": "06b1d0c2-eced-4c35-8f8f-dba0cbdcb48a"
      },
      "execution_count": 9,
      "outputs": [
        {
          "output_type": "execute_result",
          "data": {
            "text/plain": [
              "['glioma_tumor', 'meningioma_tumor', 'no_tumor', 'pituitary_tumor']"
            ]
          },
          "metadata": {},
          "execution_count": 9
        }
      ]
    },
    {
      "cell_type": "code",
      "source": [
        "#Visualização de uma imagem\n",
        "\n",
        "image, label = dataset[0]\n",
        "\n",
        "\n",
        "# Converte para NumPy e remove o canal (é escala de cinza)\n",
        "np_image = image.squeeze().numpy()\n",
        "\n",
        "# Exibe\n",
        "plt.imshow(np_image, cmap='gray')\n",
        "plt.title(f\"Label: {label} - 'glioma_tumor \")\n",
        "plt.axis('off')\n",
        "plt.show()"
      ],
      "metadata": {
        "colab": {
          "base_uri": "https://localhost:8080/",
          "height": 428
        },
        "id": "PsinADAR4Lec",
        "outputId": "e213a58b-68e1-4a42-8a91-7df63627efbc"
      },
      "execution_count": 10,
      "outputs": [
        {
          "output_type": "display_data",
          "data": {
            "text/plain": [
              "<Figure size 640x480 with 1 Axes>"
            ],
            "image/png": "[encoded data removed]"
          },
          "metadata": {}
        }
      ]
    },
    {
      "cell_type": "code",
      "execution_count": 11,
      "metadata": {
        "id": "UzMnw0x_8ZzC",
        "colab": {
          "base_uri": "https://localhost:8080/"
        },
        "outputId": "cd4c836b-af6b-40c8-ca3e-c21ffa446104"
      },
      "outputs": [
        {
          "output_type": "execute_result",
          "data": {
            "text/plain": [
              "2009"
            ]
          },
          "metadata": {},
          "execution_count": 11
        }
      ],
      "source": [
        "#Tamanho dos dados de treino\n",
        "len(dataset_train)"
      ]
    },
    {
      "cell_type": "code",
      "source": [
        "#Tamanho dos dados de teste\n",
        "len(dataset_test)"
      ],
      "metadata": {
        "id": "YZi3pFYbwju4",
        "colab": {
          "base_uri": "https://localhost:8080/"
        },
        "outputId": "a7f1306f-6d99-4de4-9c71-83d11d4cfdfa"
      },
      "execution_count": 12,
      "outputs": [
        {
          "output_type": "execute_result",
          "data": {
            "text/plain": [
              "861"
            ]
          },
          "metadata": {},
          "execution_count": 12
        }
      ]
    },
    {
      "cell_type": "code",
      "source": [
        "#Classes do dateset\n",
        "dataset_train.dataset.classes"
      ],
      "metadata": {
        "id": "ZXfc7K_SmpBQ",
        "colab": {
          "base_uri": "https://localhost:8080/"
        },
        "outputId": "8b00b74b-cfc8-42d3-830d-5cedc2e1a9b7"
      },
      "execution_count": 13,
      "outputs": [
        {
          "output_type": "execute_result",
          "data": {
            "text/plain": [
              "['glioma_tumor', 'meningioma_tumor', 'no_tumor', 'pituitary_tumor']"
            ]
          },
          "metadata": {},
          "execution_count": 13
        }
      ]
    },
    {
      "cell_type": "markdown",
      "source": [
        "#Criação e Avaliação do Modelo"
      ],
      "metadata": {
        "id": "P2ZPzt4tF2t3"
      }
    },
    {
      "cell_type": "markdown",
      "metadata": {
        "id": "4T8iS1Jc4K7q"
      },
      "source": [
        "## Criação da rede"
      ]
    },
    {
      "cell_type": "code",
      "execution_count": 14,
      "metadata": {
        "id": "RUi00oew4K7q"
      },
      "outputs": [],
      "source": [
        "input_size = 128*128\n",
        "output_size = 4\n",
        "class Net(nn.Module):\n",
        "    def __init__(self):\n",
        "        super(Net, self).__init__()\n",
        "        self.fc = nn.Sequential(\n",
        "            nn.Linear(input_size, 128),\n",
        "            nn.ReLU(),\n",
        "            nn.Linear(128, 256),\n",
        "            nn.ReLU(),\n",
        "            nn.Linear(256, 512),\n",
        "            nn.ReLU(),\n",
        "            nn.Linear(512, 1024),\n",
        "            nn.ReLU(),\n",
        "            nn.Linear(1024, 2048),\n",
        "            nn.ReLU(),\n",
        "            nn.Linear(2048, 4096),\n",
        "            nn.ReLU(),\n",
        "            nn.Linear(4096, 2048),\n",
        "            nn.ReLU(),\n",
        "            nn.Linear(2048, 1024),\n",
        "            nn.ReLU(),\n",
        "            nn.Linear(1024, 512),\n",
        "            nn.ReLU(),\n",
        "            nn.Linear(512, 256),\n",
        "            nn.ReLU(),\n",
        "            nn.Linear(256, 128),\n",
        "            nn.ReLU(),\n",
        "            nn.Linear(128, output_size)\n",
        "        )\n",
        "\n",
        "    def forward(self, x):\n",
        "        x = x.view(-1, input_size)\n",
        "        x = self.fc(x)\n",
        "        output = F.log_softmax(x, dim=1)\n",
        "        return output\n",
        "\n",
        "model = Net()"
      ]
    },
    {
      "cell_type": "code",
      "execution_count": 15,
      "metadata": {
        "id": "DJm6XoowVGQO",
        "colab": {
          "base_uri": "https://localhost:8080/"
        },
        "outputId": "1dae6dc2-d16b-48ff-c360-107f12e326b3"
      },
      "outputs": [
        {
          "output_type": "execute_result",
          "data": {
            "text/plain": [
              "Net(\n",
              "  (fc): Sequential(\n",
              "    (0): Linear(in_features=16384, out_features=128, bias=True)\n",
              "    (1): ReLU()\n",
              "    (2): Linear(in_features=128, out_features=256, bias=True)\n",
              "    (3): ReLU()\n",
              "    (4): Linear(in_features=256, out_features=512, bias=True)\n",
              "    (5): ReLU()\n",
              "    (6): Linear(in_features=512, out_features=1024, bias=True)\n",
              "    (7): ReLU()\n",
              "    (8): Linear(in_features=1024, out_features=2048, bias=True)\n",
              "    (9): ReLU()\n",
              "    (10): Linear(in_features=2048, out_features=4096, bias=True)\n",
              "    (11): ReLU()\n",
              "    (12): Linear(in_features=4096, out_features=2048, bias=True)\n",
              "    (13): ReLU()\n",
              "    (14): Linear(in_features=2048, out_features=1024, bias=True)\n",
              "    (15): ReLU()\n",
              "    (16): Linear(in_features=1024, out_features=512, bias=True)\n",
              "    (17): ReLU()\n",
              "    (18): Linear(in_features=512, out_features=256, bias=True)\n",
              "    (19): ReLU()\n",
              "    (20): Linear(in_features=256, out_features=128, bias=True)\n",
              "    (21): ReLU()\n",
              "    (22): Linear(in_features=128, out_features=4, bias=True)\n",
              "  )\n",
              ")"
            ]
          },
          "metadata": {},
          "execution_count": 15
        }
      ],
      "source": [
        "#Estrutura da Rede Neural\n",
        "\n",
        "model\n"
      ]
    },
    {
      "cell_type": "markdown",
      "metadata": {
        "id": "400Lbat24K7v"
      },
      "source": [
        "## Treinamento"
      ]
    },
    {
      "cell_type": "code",
      "execution_count": 16,
      "metadata": {
        "id": "xuVhZayVoNhC"
      },
      "outputs": [],
      "source": [
        "model = Net()"
      ]
    },
    {
      "cell_type": "code",
      "execution_count": 17,
      "metadata": {
        "id": "ONoD9Sq7oQwE",
        "colab": {
          "base_uri": "https://localhost:8080/"
        },
        "outputId": "ba0a1a35-7fa3-44eb-d26f-2ed5c346d7c0"
      },
      "outputs": [
        {
          "output_type": "execute_result",
          "data": {
            "text/plain": [
              "tensor([[-1.4471, -1.4128, -1.3163, -1.3738]], grad_fn=<LogSoftmaxBackward0>)"
            ]
          },
          "metadata": {},
          "execution_count": 17
        }
      ],
      "source": [
        "#Predição de um valor específico do treino\n",
        "model(dataset_train[10][0])\n",
        "\n"
      ]
    },
    {
      "cell_type": "markdown",
      "metadata": {
        "id": "2cqllMDO4K7y"
      },
      "source": [
        "### Criando os objetos de treinamento e teste"
      ]
    },
    {
      "cell_type": "code",
      "execution_count": 18,
      "metadata": {
        "id": "OAEOQoZy4K72"
      },
      "outputs": [],
      "source": [
        "#log_interval: Um número inteiro que especifica a cada quantos lotes (batches) a informação sobre o progresso do treinamento deve ser impressa (perda, porcentagem concluída, etc.).\n",
        "#dry_run: Um valor booleano. Se for True, a função executará apenas um lote de treinamento e depois parará. Isso é útil para verificar se o código básico de treinamento está funcionando sem ter que esperar que uma época inteira termine\n",
        "\n",
        "def train(log_interval, dry_run, model, device, train_loader, optimizer, epoch, criterion):\n",
        "    model.train()\n",
        "    correct=0\n",
        "    for batch_idx, (data, target) in enumerate(train_loader):\n",
        "        # correct = 0 # Madruga\n",
        "        data, target = data.to(device), target.to(device)\n",
        "        optimizer.zero_grad() #Zera os gradientes\n",
        "        output = model(data) #Roda o modelo para prever os dados\n",
        "        loss = criterion(output, target) #Cálcula a função de perda\n",
        "        loss.backward() ##Back propagation\n",
        "        optimizer.step() #Utiliza os gradientes calculados no passo anterior para atualizar os pesos do modelo de acordo com o algoritmo de otimização especificado (por exemplo, Adam, SGD)\n",
        "        # Número de acertos no mini-batch\n",
        "        pred = output.argmax(dim=1, keepdim=True)  # Pega a classe com maior probabilidade calculada\n",
        "        correct += pred.eq(target.view_as(pred)).sum().item() #Soma acumulada da quantidade de predições corretas\n",
        "        if batch_idx % log_interval == 0: #Informações sobre o progresso do treinamento\n",
        "            # print('Train Epoch: {} [{}/{} ({:.0f}%)]\\tLoss: {:.6f}'.format(\n",
        "            #     epoch, batch_idx * len(data), len(train_loader.dataset),\n",
        "            #     100. * batch_idx / len(train_loader), loss.item()))\n",
        "            print('Train Epoch: {} [{}/{} ({:.0f}%)]\\tLoss: {:.6f} | Acertos acumulados: {}'.format(\n",
        "                epoch,\n",
        "                batch_idx * len(data),\n",
        "                len(train_loader.dataset),\n",
        "                100. * batch_idx / len(train_loader),\n",
        "                loss.item(),\n",
        "                correct ))#100. * correct / len(data)))\n",
        "\n",
        "            if dry_run:\n",
        "                break\n",
        "    print(f'Acertos final: {correct}')\n",
        "    print(f'Acurácia final: {correct/len(dataset_train):.3f}')"
      ]
    },
    {
      "cell_type": "code",
      "source": [
        "\n",
        "def test(model, device, test_loader, criterion):\n",
        "    model.eval() #Modo avaliação\n",
        "    test_loss = 0\n",
        "    correct = 0\n",
        "    with torch.no_grad(): #Desativa o cálculo do gradiente\n",
        "        for data, target in test_loader:\n",
        "            data, target = data.to(device), target.to(device)\n",
        "            output = model(data) #Previsão do modelo\n",
        "            test_loss += F.nll_loss(output, target, reduction='sum').item()  # Soma das perdas\n",
        "            pred = output.argmax(dim=1, keepdim=True)  #Predição do valor com a maior probabilidade\n",
        "            correct += pred.eq(target.view_as(pred)).sum().item()\n",
        "\n",
        "    test_loss /= len(test_loader.dataset)\n",
        "    acc = 100. * correct / len(test_loader.dataset)\n",
        "\n",
        "    print('\\nTest set: Average loss: {:.4f}, Accuracy: {}/{} ({:.0f}%)\\n'.format(\n",
        "        test_loss, correct, len(test_loader.dataset),\n",
        "        acc))\n",
        "    return acc"
      ],
      "metadata": {
        "id": "xsHbOIxwo985"
      },
      "execution_count": 19,
      "outputs": []
    },
    {
      "cell_type": "markdown",
      "metadata": {
        "id": "kxdm4FTK4K8E"
      },
      "source": [
        "## Avaliação"
      ]
    },
    {
      "cell_type": "code",
      "execution_count": 20,
      "metadata": {
        "id": "vT9HxN6Lo4zq"
      },
      "outputs": [],
      "source": [
        "#Remover elementos None que possam estar nos mini batch\n",
        "\n",
        "def custom_collate(batch):\n",
        "  batch = list(filter(lambda x: x is not None, batch))\n",
        "  return torch.utils.data.default_collate(batch)"
      ]
    },
    {
      "cell_type": "code",
      "execution_count": 21,
      "metadata": {
        "id": "kgH7e25qb_-K",
        "colab": {
          "base_uri": "https://localhost:8080/"
        },
        "outputId": "10d13621-e26c-4aa2-a673-57eccc6458a2"
      },
      "outputs": [
        {
          "output_type": "stream",
          "name": "stdout",
          "text": [
            "\n",
            "Test set: Average loss: 1.3767, Accuracy: 233/861 (27%)\n",
            "\n",
            "Train Epoch: 1 [0/2009 (0%)]\tLoss: 1.375274 | Acertos acumulados: 21\n",
            "Train Epoch: 1 [640/2009 (31%)]\tLoss: 1.364283 | Acertos acumulados: 208\n",
            "Train Epoch: 1 [1280/2009 (62%)]\tLoss: 1.313461 | Acertos acumulados: 391\n",
            "Train Epoch: 1 [1920/2009 (94%)]\tLoss: 1.359380 | Acertos acumulados: 565\n",
            "Acertos final: 569\n",
            "Acurácia final: 0.283\n",
            "\n",
            "Test set: Average loss: 1.3629, Accuracy: 233/861 (27%)\n",
            "\n",
            "Train Epoch: 2 [0/2009 (0%)]\tLoss: 1.388644 | Acertos acumulados: 21\n",
            "Train Epoch: 2 [640/2009 (31%)]\tLoss: 1.329776 | Acertos acumulados: 223\n",
            "Train Epoch: 2 [1280/2009 (62%)]\tLoss: 1.303830 | Acertos acumulados: 396\n",
            "Train Epoch: 2 [1920/2009 (94%)]\tLoss: 1.336082 | Acertos acumulados: 574\n",
            "Acertos final: 578\n",
            "Acurácia final: 0.288\n",
            "\n",
            "Test set: Average loss: 1.3486, Accuracy: 247/861 (29%)\n",
            "\n",
            "Train Epoch: 3 [0/2009 (0%)]\tLoss: 1.381889 | Acertos acumulados: 16\n",
            "Train Epoch: 3 [640/2009 (31%)]\tLoss: 1.350062 | Acertos acumulados: 215\n",
            "Train Epoch: 3 [1280/2009 (62%)]\tLoss: 1.284540 | Acertos acumulados: 424\n",
            "Train Epoch: 3 [1920/2009 (94%)]\tLoss: 1.292189 | Acertos acumulados: 633\n",
            "Acertos final: 643\n",
            "Acurácia final: 0.320\n",
            "\n",
            "Test set: Average loss: 1.3195, Accuracy: 293/861 (34%)\n",
            "\n",
            "Train Epoch: 4 [0/2009 (0%)]\tLoss: 1.307434 | Acertos acumulados: 20\n",
            "Train Epoch: 4 [640/2009 (31%)]\tLoss: 1.308637 | Acertos acumulados: 222\n",
            "Train Epoch: 4 [1280/2009 (62%)]\tLoss: 1.315729 | Acertos acumulados: 421\n",
            "Train Epoch: 4 [1920/2009 (94%)]\tLoss: 1.316748 | Acertos acumulados: 614\n",
            "Acertos final: 625\n",
            "Acurácia final: 0.311\n",
            "\n",
            "Test set: Average loss: 1.2592, Accuracy: 378/861 (44%)\n",
            "\n",
            "Train Epoch: 5 [0/2009 (0%)]\tLoss: 1.339832 | Acertos acumulados: 24\n",
            "Train Epoch: 5 [640/2009 (31%)]\tLoss: 1.333334 | Acertos acumulados: 293\n",
            "Train Epoch: 5 [1280/2009 (62%)]\tLoss: 1.318365 | Acertos acumulados: 576\n",
            "Train Epoch: 5 [1920/2009 (94%)]\tLoss: 1.210185 | Acertos acumulados: 812\n",
            "Acertos final: 824\n",
            "Acurácia final: 0.410\n",
            "\n",
            "Test set: Average loss: 1.2381, Accuracy: 321/861 (37%)\n",
            "\n",
            "Train Epoch: 6 [0/2009 (0%)]\tLoss: 1.199427 | Acertos acumulados: 24\n",
            "Train Epoch: 6 [640/2009 (31%)]\tLoss: 1.216898 | Acertos acumulados: 291\n",
            "Train Epoch: 6 [1280/2009 (62%)]\tLoss: 1.153512 | Acertos acumulados: 540\n",
            "Train Epoch: 6 [1920/2009 (94%)]\tLoss: 1.197757 | Acertos acumulados: 822\n",
            "Acertos final: 835\n",
            "Acurácia final: 0.416\n",
            "\n",
            "Test set: Average loss: 1.2097, Accuracy: 386/861 (45%)\n",
            "\n",
            "Train Epoch: 7 [0/2009 (0%)]\tLoss: 1.224041 | Acertos acumulados: 30\n",
            "Train Epoch: 7 [640/2009 (31%)]\tLoss: 1.149480 | Acertos acumulados: 315\n",
            "Train Epoch: 7 [1280/2009 (62%)]\tLoss: 1.172603 | Acertos acumulados: 609\n",
            "Train Epoch: 7 [1920/2009 (94%)]\tLoss: 1.155856 | Acertos acumulados: 930\n",
            "Acertos final: 941\n",
            "Acurácia final: 0.468\n",
            "\n",
            "Test set: Average loss: 1.1202, Accuracy: 420/861 (49%)\n",
            "\n",
            "Train Epoch: 8 [0/2009 (0%)]\tLoss: 1.082152 | Acertos acumulados: 38\n",
            "Train Epoch: 8 [640/2009 (31%)]\tLoss: 1.072683 | Acertos acumulados: 359\n",
            "Train Epoch: 8 [1280/2009 (62%)]\tLoss: 1.110739 | Acertos acumulados: 686\n",
            "Train Epoch: 8 [1920/2009 (94%)]\tLoss: 1.014986 | Acertos acumulados: 1014\n",
            "Acertos final: 1027\n",
            "Acurácia final: 0.511\n",
            "\n",
            "Test set: Average loss: 1.0902, Accuracy: 456/861 (53%)\n",
            "\n",
            "Train Epoch: 9 [0/2009 (0%)]\tLoss: 1.003912 | Acertos acumulados: 35\n",
            "Train Epoch: 9 [640/2009 (31%)]\tLoss: 1.239012 | Acertos acumulados: 352\n",
            "Train Epoch: 9 [1280/2009 (62%)]\tLoss: 1.111001 | Acertos acumulados: 669\n",
            "Train Epoch: 9 [1920/2009 (94%)]\tLoss: 1.302538 | Acertos acumulados: 970\n",
            "Acertos final: 984\n",
            "Acurácia final: 0.490\n",
            "\n",
            "Test set: Average loss: 1.0793, Accuracy: 487/861 (57%)\n",
            "\n",
            "Train Epoch: 10 [0/2009 (0%)]\tLoss: 1.050338 | Acertos acumulados: 32\n",
            "Train Epoch: 10 [640/2009 (31%)]\tLoss: 1.022523 | Acertos acumulados: 346\n",
            "Train Epoch: 10 [1280/2009 (62%)]\tLoss: 1.038256 | Acertos acumulados: 699\n",
            "Train Epoch: 10 [1920/2009 (94%)]\tLoss: 1.037965 | Acertos acumulados: 1046\n",
            "Acertos final: 1057\n",
            "Acurácia final: 0.526\n",
            "\n",
            "Test set: Average loss: 1.0631, Accuracy: 457/861 (53%)\n",
            "\n",
            "Train Epoch: 11 [0/2009 (0%)]\tLoss: 1.059067 | Acertos acumulados: 34\n",
            "Train Epoch: 11 [640/2009 (31%)]\tLoss: 1.060172 | Acertos acumulados: 379\n",
            "Train Epoch: 11 [1280/2009 (62%)]\tLoss: 0.998132 | Acertos acumulados: 735\n",
            "Train Epoch: 11 [1920/2009 (94%)]\tLoss: 1.144244 | Acertos acumulados: 1078\n",
            "Acertos final: 1091\n",
            "Acurácia final: 0.543\n",
            "\n",
            "Test set: Average loss: 1.0318, Accuracy: 516/861 (60%)\n",
            "\n",
            "Train Epoch: 12 [0/2009 (0%)]\tLoss: 1.051214 | Acertos acumulados: 40\n",
            "Train Epoch: 12 [640/2009 (31%)]\tLoss: 1.105359 | Acertos acumulados: 416\n",
            "Train Epoch: 12 [1280/2009 (62%)]\tLoss: 0.874208 | Acertos acumulados: 776\n",
            "Train Epoch: 12 [1920/2009 (94%)]\tLoss: 0.767283 | Acertos acumulados: 1152\n",
            "Acertos final: 1161\n",
            "Acurácia final: 0.578\n",
            "\n",
            "Test set: Average loss: 0.9429, Accuracy: 501/861 (58%)\n",
            "\n",
            "Train Epoch: 13 [0/2009 (0%)]\tLoss: 1.123308 | Acertos acumulados: 29\n",
            "Train Epoch: 13 [640/2009 (31%)]\tLoss: 0.937765 | Acertos acumulados: 398\n",
            "Train Epoch: 13 [1280/2009 (62%)]\tLoss: 0.896723 | Acertos acumulados: 771\n",
            "Train Epoch: 13 [1920/2009 (94%)]\tLoss: 1.045587 | Acertos acumulados: 1160\n",
            "Acertos final: 1181\n",
            "Acurácia final: 0.588\n",
            "\n",
            "Test set: Average loss: 0.9342, Accuracy: 527/861 (61%)\n",
            "\n",
            "Train Epoch: 14 [0/2009 (0%)]\tLoss: 1.081836 | Acertos acumulados: 35\n",
            "Train Epoch: 14 [640/2009 (31%)]\tLoss: 0.984516 | Acertos acumulados: 408\n",
            "Train Epoch: 14 [1280/2009 (62%)]\tLoss: 0.898290 | Acertos acumulados: 796\n",
            "Train Epoch: 14 [1920/2009 (94%)]\tLoss: 1.020998 | Acertos acumulados: 1187\n",
            "Acertos final: 1200\n",
            "Acurácia final: 0.597\n",
            "\n",
            "Test set: Average loss: 0.9074, Accuracy: 537/861 (62%)\n",
            "\n",
            "Train Epoch: 15 [0/2009 (0%)]\tLoss: 0.798976 | Acertos acumulados: 47\n",
            "Train Epoch: 15 [640/2009 (31%)]\tLoss: 0.909799 | Acertos acumulados: 438\n",
            "Train Epoch: 15 [1280/2009 (62%)]\tLoss: 0.898069 | Acertos acumulados: 814\n",
            "Train Epoch: 15 [1920/2009 (94%)]\tLoss: 1.045471 | Acertos acumulados: 1203\n",
            "Acertos final: 1216\n",
            "Acurácia final: 0.605\n",
            "\n",
            "Test set: Average loss: 0.9191, Accuracy: 535/861 (62%)\n",
            "\n",
            "Train Epoch: 16 [0/2009 (0%)]\tLoss: 0.970286 | Acertos acumulados: 37\n",
            "Train Epoch: 16 [640/2009 (31%)]\tLoss: 0.882414 | Acertos acumulados: 437\n",
            "Train Epoch: 16 [1280/2009 (62%)]\tLoss: 0.839200 | Acertos acumulados: 844\n",
            "Train Epoch: 16 [1920/2009 (94%)]\tLoss: 0.999273 | Acertos acumulados: 1235\n",
            "Acertos final: 1253\n",
            "Acurácia final: 0.624\n",
            "\n",
            "Test set: Average loss: 0.8887, Accuracy: 538/861 (62%)\n",
            "\n",
            "Train Epoch: 17 [0/2009 (0%)]\tLoss: 0.824912 | Acertos acumulados: 40\n",
            "Train Epoch: 17 [640/2009 (31%)]\tLoss: 1.101376 | Acertos acumulados: 409\n",
            "Train Epoch: 17 [1280/2009 (62%)]\tLoss: 0.975478 | Acertos acumulados: 795\n",
            "Train Epoch: 17 [1920/2009 (94%)]\tLoss: 1.129328 | Acertos acumulados: 1164\n",
            "Acertos final: 1178\n",
            "Acurácia final: 0.586\n",
            "\n",
            "Test set: Average loss: 0.8871, Accuracy: 536/861 (62%)\n",
            "\n",
            "Train Epoch: 18 [0/2009 (0%)]\tLoss: 0.900732 | Acertos acumulados: 34\n",
            "Train Epoch: 18 [640/2009 (31%)]\tLoss: 1.036129 | Acertos acumulados: 435\n",
            "Train Epoch: 18 [1280/2009 (62%)]\tLoss: 0.915805 | Acertos acumulados: 822\n",
            "Train Epoch: 18 [1920/2009 (94%)]\tLoss: 1.155368 | Acertos acumulados: 1206\n",
            "Acertos final: 1220\n",
            "Acurácia final: 0.607\n",
            "\n",
            "Test set: Average loss: 0.8901, Accuracy: 549/861 (64%)\n",
            "\n",
            "Train Epoch: 19 [0/2009 (0%)]\tLoss: 0.825218 | Acertos acumulados: 38\n",
            "Train Epoch: 19 [640/2009 (31%)]\tLoss: 0.831796 | Acertos acumulados: 439\n",
            "Train Epoch: 19 [1280/2009 (62%)]\tLoss: 0.805039 | Acertos acumulados: 859\n",
            "Train Epoch: 19 [1920/2009 (94%)]\tLoss: 0.815601 | Acertos acumulados: 1266\n",
            "Acertos final: 1285\n",
            "Acurácia final: 0.640\n",
            "\n",
            "Test set: Average loss: 0.9056, Accuracy: 548/861 (64%)\n",
            "\n",
            "Train Epoch: 20 [0/2009 (0%)]\tLoss: 1.028584 | Acertos acumulados: 40\n",
            "Train Epoch: 20 [640/2009 (31%)]\tLoss: 0.882779 | Acertos acumulados: 465\n",
            "Train Epoch: 20 [1280/2009 (62%)]\tLoss: 0.890068 | Acertos acumulados: 856\n",
            "Train Epoch: 20 [1920/2009 (94%)]\tLoss: 0.930109 | Acertos acumulados: 1259\n",
            "Acertos final: 1274\n",
            "Acurácia final: 0.634\n",
            "\n",
            "Test set: Average loss: 0.9004, Accuracy: 552/861 (64%)\n",
            "\n",
            "Train Epoch: 21 [0/2009 (0%)]\tLoss: 0.836606 | Acertos acumulados: 40\n",
            "Train Epoch: 21 [640/2009 (31%)]\tLoss: 0.700944 | Acertos acumulados: 457\n",
            "Train Epoch: 21 [1280/2009 (62%)]\tLoss: 0.786312 | Acertos acumulados: 867\n",
            "Train Epoch: 21 [1920/2009 (94%)]\tLoss: 0.729058 | Acertos acumulados: 1284\n",
            "Acertos final: 1297\n",
            "Acurácia final: 0.646\n",
            "\n",
            "Test set: Average loss: 0.9110, Accuracy: 550/861 (64%)\n",
            "\n",
            "Train Epoch: 22 [0/2009 (0%)]\tLoss: 0.778710 | Acertos acumulados: 46\n",
            "Train Epoch: 22 [640/2009 (31%)]\tLoss: 0.791716 | Acertos acumulados: 477\n",
            "Train Epoch: 22 [1280/2009 (62%)]\tLoss: 0.815497 | Acertos acumulados: 876\n",
            "Train Epoch: 22 [1920/2009 (94%)]\tLoss: 0.763371 | Acertos acumulados: 1290\n",
            "Acertos final: 1306\n",
            "Acurácia final: 0.650\n",
            "\n",
            "Test set: Average loss: 0.8796, Accuracy: 554/861 (64%)\n",
            "\n",
            "Train Epoch: 23 [0/2009 (0%)]\tLoss: 0.816439 | Acertos acumulados: 40\n",
            "Train Epoch: 23 [640/2009 (31%)]\tLoss: 0.922058 | Acertos acumulados: 454\n",
            "Train Epoch: 23 [1280/2009 (62%)]\tLoss: 0.866803 | Acertos acumulados: 873\n",
            "Train Epoch: 23 [1920/2009 (94%)]\tLoss: 0.854504 | Acertos acumulados: 1274\n",
            "Acertos final: 1289\n",
            "Acurácia final: 0.642\n",
            "\n",
            "Test set: Average loss: 0.8700, Accuracy: 550/861 (64%)\n",
            "\n",
            "Train Epoch: 24 [0/2009 (0%)]\tLoss: 0.911359 | Acertos acumulados: 34\n",
            "Train Epoch: 24 [640/2009 (31%)]\tLoss: 0.844435 | Acertos acumulados: 440\n",
            "Train Epoch: 24 [1280/2009 (62%)]\tLoss: 0.697804 | Acertos acumulados: 863\n",
            "Train Epoch: 24 [1920/2009 (94%)]\tLoss: 0.738988 | Acertos acumulados: 1299\n",
            "Acertos final: 1315\n",
            "Acurácia final: 0.655\n",
            "\n",
            "Test set: Average loss: 0.9008, Accuracy: 570/861 (66%)\n",
            "\n",
            "Train Epoch: 25 [0/2009 (0%)]\tLoss: 0.843738 | Acertos acumulados: 38\n",
            "Train Epoch: 25 [640/2009 (31%)]\tLoss: 0.884181 | Acertos acumulados: 450\n",
            "Train Epoch: 25 [1280/2009 (62%)]\tLoss: 0.830247 | Acertos acumulados: 867\n",
            "Train Epoch: 25 [1920/2009 (94%)]\tLoss: 0.779407 | Acertos acumulados: 1294\n",
            "Acertos final: 1312\n",
            "Acurácia final: 0.653\n",
            "\n",
            "Test set: Average loss: 0.9232, Accuracy: 557/861 (65%)\n",
            "\n",
            "Train Epoch: 26 [0/2009 (0%)]\tLoss: 0.740780 | Acertos acumulados: 40\n",
            "Train Epoch: 26 [640/2009 (31%)]\tLoss: 0.831060 | Acertos acumulados: 476\n",
            "Train Epoch: 26 [1280/2009 (62%)]\tLoss: 0.715310 | Acertos acumulados: 899\n",
            "Train Epoch: 26 [1920/2009 (94%)]\tLoss: 0.948800 | Acertos acumulados: 1319\n",
            "Acertos final: 1339\n",
            "Acurácia final: 0.667\n",
            "\n",
            "Test set: Average loss: 0.8711, Accuracy: 561/861 (65%)\n",
            "\n",
            "Train Epoch: 27 [0/2009 (0%)]\tLoss: 0.727922 | Acertos acumulados: 47\n",
            "Train Epoch: 27 [640/2009 (31%)]\tLoss: 0.799424 | Acertos acumulados: 466\n",
            "Train Epoch: 27 [1280/2009 (62%)]\tLoss: 0.842836 | Acertos acumulados: 892\n",
            "Train Epoch: 27 [1920/2009 (94%)]\tLoss: 0.732309 | Acertos acumulados: 1304\n",
            "Acertos final: 1319\n",
            "Acurácia final: 0.657\n",
            "\n",
            "Test set: Average loss: 0.8959, Accuracy: 564/861 (66%)\n",
            "\n",
            "Train Epoch: 28 [0/2009 (0%)]\tLoss: 0.862899 | Acertos acumulados: 44\n",
            "Train Epoch: 28 [640/2009 (31%)]\tLoss: 0.912535 | Acertos acumulados: 468\n",
            "Train Epoch: 28 [1280/2009 (62%)]\tLoss: 1.065313 | Acertos acumulados: 884\n",
            "Train Epoch: 28 [1920/2009 (94%)]\tLoss: 0.834359 | Acertos acumulados: 1304\n",
            "Acertos final: 1319\n",
            "Acurácia final: 0.657\n",
            "\n",
            "Test set: Average loss: 0.8757, Accuracy: 559/861 (65%)\n",
            "\n",
            "Train Epoch: 29 [0/2009 (0%)]\tLoss: 0.777933 | Acertos acumulados: 41\n",
            "Train Epoch: 29 [640/2009 (31%)]\tLoss: 0.776657 | Acertos acumulados: 481\n",
            "Train Epoch: 29 [1280/2009 (62%)]\tLoss: 0.755291 | Acertos acumulados: 906\n",
            "Train Epoch: 29 [1920/2009 (94%)]\tLoss: 0.787086 | Acertos acumulados: 1329\n",
            "Acertos final: 1344\n",
            "Acurácia final: 0.669\n",
            "\n",
            "Test set: Average loss: 0.9139, Accuracy: 539/861 (63%)\n",
            "\n",
            "Train Epoch: 30 [0/2009 (0%)]\tLoss: 0.698510 | Acertos acumulados: 43\n",
            "Train Epoch: 30 [640/2009 (31%)]\tLoss: 0.846734 | Acertos acumulados: 459\n",
            "Train Epoch: 30 [1280/2009 (62%)]\tLoss: 0.864062 | Acertos acumulados: 894\n",
            "Train Epoch: 30 [1920/2009 (94%)]\tLoss: 0.818451 | Acertos acumulados: 1320\n",
            "Acertos final: 1337\n",
            "Acurácia final: 0.666\n",
            "\n",
            "Test set: Average loss: 0.8996, Accuracy: 569/861 (66%)\n",
            "\n"
          ]
        }
      ],
      "source": [
        "use_cuda = torch.cuda.is_available()\n",
        "\n",
        "torch.manual_seed(200)\n",
        "\n",
        "device = torch.device(\"cuda\" if use_cuda else \"cpu\")\n",
        "\n",
        "train_kwargs = {'batch_size': 64} #tamanho do batch para treino\n",
        "test_kwargs = {'batch_size': 64} #tamanho do batch para teste\n",
        "if use_cuda:\n",
        "    cuda_kwargs = {'num_workers': 1,\n",
        "                    'pin_memory': True,\n",
        "                    'shuffle': True}\n",
        "    train_kwargs.update(cuda_kwargs)\n",
        "    test_kwargs.update(cuda_kwargs)\n",
        "\n",
        "train_loader = torch.utils.data.DataLoader(dataset_train,**train_kwargs, collate_fn=custom_collate)\n",
        "test_loader = torch.utils.data.DataLoader(dataset_test, **test_kwargs, collate_fn=custom_collate)\n",
        "\n",
        "model = Net().to(device)\n",
        "optimizer = optim.Adam(model.parameters(), lr=0.003)\n",
        "criterion = F.nll_loss\n",
        "\n",
        "best_acc = test(model, device, test_loader, criterion)\n",
        "\n",
        "epochs = 30\n",
        "scheduler = StepLR(optimizer, step_size=5, gamma=0.7) #Reduz a taxa de aprendizado a cada 5 épocas, multiplicando a mesma por 0.7\n",
        "\n",
        "for epoch in range(1, epochs + 1):\n",
        "    train(10, False, model, device, train_loader, optimizer, epoch, criterion)\n",
        "    acc = test(model, device, test_loader, criterion)\n",
        "    if (acc > best_acc): #estava acc < best_acc\n",
        "      best_acc = acc\n",
        "      torch.save(model.state_dict(), \"brain_tumor_nn.pt\")\n",
        "    scheduler.step()"
      ]
    },
    {
      "cell_type": "code",
      "execution_count": 22,
      "metadata": {
        "id": "i0w-A_eitodH"
      },
      "outputs": [],
      "source": [
        "#Salvar um arquivo com os pesos do modelo treinado\n",
        "torch.save(model.state_dict(), \"brain_tumor_nn.pt\")"
      ]
    },
    {
      "cell_type": "code",
      "execution_count": 23,
      "metadata": {
        "id": "01vM6UVACVmh",
        "colab": {
          "base_uri": "https://localhost:8080/"
        },
        "outputId": "769a79d1-3e82-428c-9328-640dc925d713"
      },
      "outputs": [
        {
          "output_type": "execute_result",
          "data": {
            "text/plain": [
              "Net(\n",
              "  (fc): Sequential(\n",
              "    (0): Linear(in_features=16384, out_features=128, bias=True)\n",
              "    (1): ReLU()\n",
              "    (2): Linear(in_features=128, out_features=256, bias=True)\n",
              "    (3): ReLU()\n",
              "    (4): Linear(in_features=256, out_features=512, bias=True)\n",
              "    (5): ReLU()\n",
              "    (6): Linear(in_features=512, out_features=1024, bias=True)\n",
              "    (7): ReLU()\n",
              "    (8): Linear(in_features=1024, out_features=2048, bias=True)\n",
              "    (9): ReLU()\n",
              "    (10): Linear(in_features=2048, out_features=4096, bias=True)\n",
              "    (11): ReLU()\n",
              "    (12): Linear(in_features=4096, out_features=2048, bias=True)\n",
              "    (13): ReLU()\n",
              "    (14): Linear(in_features=2048, out_features=1024, bias=True)\n",
              "    (15): ReLU()\n",
              "    (16): Linear(in_features=1024, out_features=512, bias=True)\n",
              "    (17): ReLU()\n",
              "    (18): Linear(in_features=512, out_features=256, bias=True)\n",
              "    (19): ReLU()\n",
              "    (20): Linear(in_features=256, out_features=128, bias=True)\n",
              "    (21): ReLU()\n",
              "    (22): Linear(in_features=128, out_features=4, bias=True)\n",
              "  )\n",
              ")"
            ]
          },
          "metadata": {},
          "execution_count": 23
        }
      ],
      "source": [
        "#Carregamento dos pesos da rede treinada\n",
        "\n",
        "model.load_state_dict(torch.load(\"/content/brain_tumor_nn.pt\"))\n",
        "model.eval()\n"
      ]
    },
    {
      "cell_type": "markdown",
      "source": [
        "###Matriz de Confusão com os dados de teste"
      ],
      "metadata": {
        "id": "E7NarrFpEmdd"
      }
    },
    {
      "cell_type": "code",
      "execution_count": 24,
      "metadata": {
        "id": "fATqfzq4t0K_",
        "colab": {
          "base_uri": "https://localhost:8080/",
          "height": 814
        },
        "outputId": "81a7fdb1-1eaf-4eff-8aca-6d886571a27c"
      },
      "outputs": [
        {
          "output_type": "stream",
          "name": "stderr",
          "text": [
            "Testing on Full Test Set: 100%|██████████| 14/14 [00:02<00:00,  5.11it/s]\n"
          ]
        },
        {
          "output_type": "stream",
          "name": "stdout",
          "text": [
            "\n",
            "Relatório de Classificação no conjunto de teste completo:\n",
            "                   precision    recall  f1-score   support\n",
            "\n",
            "    glioma_tumor       0.59      0.77      0.67       246\n",
            "meningioma_tumor       0.56      0.38      0.45       233\n",
            "        no_tumor       0.56      0.42      0.48       119\n",
            " pituitary_tumor       0.82      0.91      0.86       263\n",
            "\n",
            "        accuracy                           0.66       861\n",
            "       macro avg       0.63      0.62      0.62       861\n",
            "    weighted avg       0.65      0.66      0.64       861\n",
            "\n"
          ]
        },
        {
          "output_type": "display_data",
          "data": {
            "text/plain": [
              "<Figure size 640x480 with 2 Axes>"
            ],
            "image/png": "[encoded data removed]"
          },
          "metadata": {}
        }
      ],
      "source": [
        "def test_on_full_test_set(model, test_loader, device):\n",
        "    model.eval()  # Coloca o modelo em modo de avaliação\n",
        "    all_preds = []\n",
        "    all_labels = []\n",
        "\n",
        "    with torch.no_grad():  # Desativa o cálculo do gradiente para economizar memória e tempo\n",
        "        for inputs, labels in tqdm(test_loader, desc=\"Testing on Full Test Set\"):\n",
        "            inputs = inputs.to(device).view(-1, 128 * 128)\n",
        "            labels = labels.to(device)\n",
        "\n",
        "            outputs = model(inputs)\n",
        "            _, predicted = torch.max(outputs, 1)  # Obtém a classe com maior probabilidade\n",
        "\n",
        "            all_preds.extend(predicted.cpu().numpy())\n",
        "            all_labels.extend(labels.cpu().numpy())\n",
        "\n",
        "    # Calcula as métricas\n",
        "    accuracy = accuracy_score(all_labels, all_preds)\n",
        "    report = classification_report(all_labels, all_preds, target_names=dataset_test.dataset.classes)\n",
        "    cm = confusion_matrix(all_labels, all_preds)\n",
        "\n",
        "    print(\"\\nRelatório de Classificação no conjunto de teste completo:\\n\", report)\n",
        "    ConfusionMatrixDisplay(cm, display_labels=dataset_test.dataset.classes).plot(cmap='Blues',xticks_rotation='vertical')\n",
        "\n",
        "    model.train()  # Coloca o modelo de volta em modo de treinamento (boa prática)\n",
        "\n",
        "device = torch.device(\"cuda\" if torch.cuda.is_available() else \"cpu\")\n",
        "model.to(device)\n",
        "\n",
        "test_on_full_test_set(model, test_loader, device)\n"
      ]
    },
    {
      "cell_type": "markdown",
      "source": [
        "###Matriz de Confusão com os dados de treino"
      ],
      "metadata": {
        "id": "kptShQRFEqQO"
      }
    },
    {
      "cell_type": "code",
      "source": [
        "def test_on_full_train_set(model, train_loader, device):\n",
        "    model.eval()  # Coloca o modelo em modo de avaliação\n",
        "    all_preds = []\n",
        "    all_labels = []\n",
        "\n",
        "    with torch.no_grad():  # Desativa o cálculo do gradiente para economizar memória e tempo\n",
        "        for inputs, labels in tqdm(train_loader, desc=\"Testing on Full Train Set\"):\n",
        "            inputs = inputs.to(device).view(-1, 128 * 128)  # Apenas necessário se for um modelo denso (MLP)\n",
        "            labels = labels.to(device)\n",
        "\n",
        "            outputs = model(inputs)\n",
        "            _, predicted = torch.max(outputs, 1)  # Obtém a classe com maior probabilidade\n",
        "\n",
        "            all_preds.extend(predicted.cpu().numpy())\n",
        "            all_labels.extend(labels.cpu().numpy())\n",
        "\n",
        "    # Calcula as métricas\n",
        "    accuracy = accuracy_score(all_labels, all_preds)\n",
        "    report = classification_report(all_labels, all_preds, target_names=dataset_train.dataset.classes)\n",
        "    cm = confusion_matrix(all_labels, all_preds)\n",
        "\n",
        "    print(\"\\nRelatório de Classificação no conjunto de treinamento:\\n\", report)\n",
        "\n",
        "    plt.figure(figsize=(30, 10))\n",
        "    ConfusionMatrixDisplay(cm, display_labels=dataset_train.dataset.classes).plot(cmap='Blues', xticks_rotation='vertical')\n",
        "    plt.show()\n",
        "\n",
        "    model.train()  # Coloca o modelo de volta em modo de treinamento (boa prática)\n",
        "\n",
        "device = torch.device(\"cuda\" if torch.cuda.is_available() else \"cpu\")\n",
        "model.to(device)\n",
        "\n",
        "test_on_full_train_set(model, train_loader, device)"
      ],
      "metadata": {
        "id": "tUSsd4d1gkoW",
        "colab": {
          "base_uri": "https://localhost:8080/",
          "height": 831
        },
        "outputId": "f0972131-5502-4838-9c0d-876f4de5fea6"
      },
      "execution_count": 25,
      "outputs": [
        {
          "output_type": "stream",
          "name": "stderr",
          "text": [
            "Testing on Full Train Set: 100%|██████████| 32/32 [00:06<00:00,  5.06it/s]"
          ]
        },
        {
          "output_type": "stream",
          "name": "stdout",
          "text": [
            "\n",
            "Relatório de Classificação no conjunto de treinamento:\n",
            "                   precision    recall  f1-score   support\n",
            "\n",
            "    glioma_tumor       0.59      0.84      0.69       580\n",
            "meningioma_tumor       0.66      0.39      0.49       589\n",
            "        no_tumor       0.68      0.46      0.55       276\n",
            " pituitary_tumor       0.82      0.93      0.87       564\n",
            "\n",
            "        accuracy                           0.68      2009\n",
            "       macro avg       0.68      0.66      0.65      2009\n",
            "    weighted avg       0.68      0.68      0.66      2009\n",
            "\n"
          ]
        },
        {
          "output_type": "stream",
          "name": "stderr",
          "text": [
            "\n"
          ]
        },
        {
          "output_type": "display_data",
          "data": {
            "text/plain": [
              "<Figure size 3000x1000 with 0 Axes>"
            ]
          },
          "metadata": {}
        },
        {
          "output_type": "display_data",
          "data": {
            "text/plain": [
              "<Figure size 640x480 with 2 Axes>"
            ],
            "image/png": "[encoded data removed]"
          },
          "metadata": {}
        }
      ]
    },
    {
      "cell_type": "markdown",
      "source": [
        "# Conclusão"
      ],
      "metadata": {
        "id": "RxsOIXk2Nt_D"
      }
    },
    {
      "cell_type": "markdown",
      "source": [
        "\n",
        "Neste projeto, foi desenvolvida uma rede neural para realizar a classificação  de imagens de ressonância magnética do cérebro, com o objetivo de identificar a ausência ou presença de tumores cerebrais e seus respectivos tipos. O modelo foi treinado utilizando uma arquitetura de rede neural totalmente conectada (MLP), aplicando técnicas de pré-processamento de imagens e validação com divisão entre conjuntos de treino e teste.\n",
        "\n",
        "Os resultados demonstraram que o modelo é capaz de aprender padrões nas imagens e obter uma acurácia razoável de classificação, conforme evidenciado pelas matrizes de confusão e relatórios de desempenho.\n",
        "<br>\n",
        "\n",
        "**Relatório de Classificação no conjunto de teste completo:**\n",
        "\n",
        "                   precision    recall  f1-score   support\n",
        "\n",
        "   \n",
        "    glioma_tumor       0.59      0.77      0.67       246\n",
        "    meningioma_tumor   0.56      0.38      0.45       233\n",
        "    no_tumor           0.56      0.42      0.48       119\n",
        "    pituitary_tumor    0.82      0.91      0.86       263\n",
        "\n",
        "        accuracy                           0.66       861\n",
        "       macro avg       0.63      0.62      0.62       861\n",
        "    weighted avg       0.65      0.66      0.64       861\n",
        "\n",
        "\n",
        "\n",
        "\n",
        "  **Relatório de Classificação no conjunto de treinamento:**\n",
        "\n",
        "                     precision    recall  f1-score   support\n",
        "    glioma_tumor       0.59      0.84      0.69       580\n",
        "    meningioma_tumor   0.66      0.39      0.49       589\n",
        "    no_tumor           0.68      0.46      0.55       276\n",
        "    pituitary_tumor    0.82      0.93      0.87       564\n",
        "\n",
        "        accuracy                           0.68      2009\n",
        "       macro avg       0.68      0.66      0.65      2009\n",
        "    weighted avg       0.68      0.68      0.66      2009\n",
        "\n",
        "<br>\n",
        "\n",
        "Com base nas Métricas de classificação (acurácia, precisão, recall e F1-score) o modelo possui bom desempenho na classificação das imagens.\n",
        "\n",
        "Os valores próximos de acurácia para os dados de treino e teste não indicam overfitting ou underfitting.\n",
        "\n",
        "\n",
        "Com base nos valores de f1-score (média harmônica da precisão e recall) o modelo obteve melhores resultados para a identificação de pituitary_tumor e piores resultados para meningioma_tumor.\n",
        "\n",
        "\n",
        "Próximos passos e oportunidades de melhoria seriam:\n",
        "\n",
        "- Explorar arquiteturas mais complexas e adequadas para imagens, como redes convolucionais (CNNs);\n",
        "\n",
        "- Utilizar Transfer Learning para reutilizar modelos já treinados em grandes bancos de dados em conjunto com o modelo original;\n",
        "\n",
        "- Realizar validação cruzada para obter uma avaliação mais confiável;\n",
        "\n",
        "- Considerando que a quantidade de imagens que não possuem tumor é menos da metade das existentes para cada uma das outras classes, seria interessante obter mais imagens desse tipo, ou gerar novas imagens a partir de transformações.\n",
        "\n",
        "\n"
      ],
      "metadata": {
        "id": "y8HvBKKmPtMH"
      }
    }
  ],
  "metadata": {
    "accelerator": "GPU",
    "colab": {
      "provenance": [],
      "gpuType": "T4",
      "toc_visible": true
    },
    "kernelspec": {
      "display_name": "Python 3",
      "name": "python3"
    },
    "language_info": {
      "name": "python",
      "version": "3.10.2"
    },
    "vscode": {
      "interpreter": {
        "hash": "5fe3e6f0cdaab8afdc61c52912fda83f7c0a71baaea1897dd7498e2df01e69ec"
      }
    }
  },
  "nbformat": 4,
  "nbformat_minor": 0
}