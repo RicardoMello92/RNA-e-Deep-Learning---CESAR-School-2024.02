{
  "nbformat": 4,
  "nbformat_minor": 0,
  "metadata": {
    "colab": {
      "provenance": []
    },
    "kernelspec": {
      "display_name": "Python 3",
      "language": "python",
      "name": "python3"
    }
  },
  "cells": [
    {
      "metadata": {
        "id": "HPLrnyCPXtIn"
      },
      "cell_type": "markdown",
      "source": [
        "# Datasets e DataLoaders no Pytorch"
      ]
    },
    {
      "metadata": {
        "id": "XMVwhFH_XtIo"
      },
      "cell_type": "markdown",
      "source": [
        "Demonstração do funcionamento dos Datasets e Dataloaders no Pytorch"
      ]
    },
    {
      "metadata": {
        "id": "Vc1EG1fXXtIp"
      },
      "cell_type": "markdown",
      "source": [
        "### Objetivo"
      ]
    },
    {
      "metadata": {
        "id": "GCqkJ_uKXtIq"
      },
      "cell_type": "markdown",
      "source": [
        "O objetivo deste notebook é demonstrar as três formas de carregar e usar dados no PyTorch:\n",
        "\n",
        "* torch.utils.data.TensorDataset\n",
        "* torch.utils.data.Dataset\n",
        "* torch.utils.data.DataLoader\n",
        "\n",
        "Neste notebook usaremos o dataset de Flores Íris, já visto anteriormente"
      ]
    },
    {
      "metadata": {
        "ExecuteTime": {
          "end_time": "2017-10-08T11:34:30.937052Z",
          "start_time": "2017-10-08T11:34:30.479875Z"
        },
        "id": "RSlNmg6_XtIr"
      },
      "cell_type": "code",
      "source": [
        "#Importar as bibliotes\n",
        "\n",
        "import numpy as np\n",
        "import torch\n",
        "from torch.utils.data import TensorDataset\n",
        "\n",
        "from torchvision import transforms\n",
        "\n",
        "from sklearn.datasets import load_iris"
      ],
      "execution_count": 221,
      "outputs": []
    },
    {
      "metadata": {
        "id": "2fDd3Pn_XtIu"
      },
      "cell_type": "markdown",
      "source": [
        "# Datasets"
      ]
    },
    {
      "metadata": {
        "id": "Padn_LO3XtIv"
      },
      "cell_type": "markdown",
      "source": [
        "No Pytorch, datasets são objetos utilizados para armazenar, indexar, transformar e retornar elementos de um conjunto de dados.\n",
        "\n",
        "Existem duas formas de se criar um dataset em PyTorch:\n",
        "\n",
        "* Transformar os dados de entrada em tensores torch e criar o dataset com torch.utils.data.TensorDataset¶\n",
        "* Criar uma classe filha de torch.utils.data.Dataset"
      ]
    },
    {
      "metadata": {
        "id": "lG6MADq8XtIv"
      },
      "cell_type": "markdown",
      "source": [
        "## Criando um Dataset com `torch.utils.data.TensorDataset`"
      ]
    },
    {
      "metadata": {
        "id": "wEud3qr9XtIw"
      },
      "cell_type": "markdown",
      "source": [
        "Se os dados e as classes forem disponibilizados em arrays do numpy ou tensores do próprio PyTorch é possível criar um dataset utilizando [torch.utils.data.TensorDataset](http://pytorch.org/docs/master/data.html#torch.utils.data.TensorDataset):"
      ]
    },
    {
      "metadata": {
        "ExecuteTime": {
          "end_time": "2017-10-08T11:34:30.937052Z",
          "start_time": "2017-10-08T11:34:30.479875Z"
        },
        "id": "K9H8Rd2BXtIw"
      },
      "cell_type": "markdown",
      "source": [
        "### Dados anotados: x_data (comprimento das sépalas) e target (comprimento das pétalas)  "
      ]
    },
    {
      "metadata": {
        "ExecuteTime": {
          "end_time": "2017-10-08T11:34:30.937052Z",
          "start_time": "2017-10-08T11:34:30.479875Z"
        },
        "id": "aQoZ1kFvXtIx",
        "colab": {
          "base_uri": "https://localhost:8080/"
        },
        "outputId": "2bf7c5d8-8976-47ea-be3d-1ee9b9dbc921"
      },
      "cell_type": "code",
      "source": [
        "iris = load_iris()\n",
        "data = iris.data[iris.target==1,::2]  # comprimento das sépalas e pétalas, indices 0 e 2\n",
        "\n",
        "x_data = data[:,0:1]\n",
        "target = data[:,1:2]\n",
        "\n",
        "print('dimensões de x_data:', x_data.shape)\n",
        "print('dimensões de target:', target.shape)"
      ],
      "execution_count": 222,
      "outputs": [
        {
          "output_type": "stream",
          "name": "stdout",
          "text": [
            "dimensões de x_data: (50, 1)\n",
            "dimensões de target: (50, 1)\n"
          ]
        }
      ]
    },
    {
      "cell_type": "code",
      "source": [
        "data"
      ],
      "metadata": {
        "colab": {
          "base_uri": "https://localhost:8080/"
        },
        "id": "yqAiPYIez_La",
        "outputId": "e3cf480a-431f-47e0-a978-f11448010780"
      },
      "execution_count": 223,
      "outputs": [
        {
          "output_type": "execute_result",
          "data": {
            "text/plain": [
              "array([[7. , 4.7],\n",
              "       [6.4, 4.5],\n",
              "       [6.9, 4.9],\n",
              "       [5.5, 4. ],\n",
              "       [6.5, 4.6],\n",
              "       [5.7, 4.5],\n",
              "       [6.3, 4.7],\n",
              "       [4.9, 3.3],\n",
              "       [6.6, 4.6],\n",
              "       [5.2, 3.9],\n",
              "       [5. , 3.5],\n",
              "       [5.9, 4.2],\n",
              "       [6. , 4. ],\n",
              "       [6.1, 4.7],\n",
              "       [5.6, 3.6],\n",
              "       [6.7, 4.4],\n",
              "       [5.6, 4.5],\n",
              "       [5.8, 4.1],\n",
              "       [6.2, 4.5],\n",
              "       [5.6, 3.9],\n",
              "       [5.9, 4.8],\n",
              "       [6.1, 4. ],\n",
              "       [6.3, 4.9],\n",
              "       [6.1, 4.7],\n",
              "       [6.4, 4.3],\n",
              "       [6.6, 4.4],\n",
              "       [6.8, 4.8],\n",
              "       [6.7, 5. ],\n",
              "       [6. , 4.5],\n",
              "       [5.7, 3.5],\n",
              "       [5.5, 3.8],\n",
              "       [5.5, 3.7],\n",
              "       [5.8, 3.9],\n",
              "       [6. , 5.1],\n",
              "       [5.4, 4.5],\n",
              "       [6. , 4.5],\n",
              "       [6.7, 4.7],\n",
              "       [6.3, 4.4],\n",
              "       [5.6, 4.1],\n",
              "       [5.5, 4. ],\n",
              "       [5.5, 4.4],\n",
              "       [6.1, 4.6],\n",
              "       [5.8, 4. ],\n",
              "       [5. , 3.3],\n",
              "       [5.6, 4.2],\n",
              "       [5.7, 4.2],\n",
              "       [5.7, 4.2],\n",
              "       [6.2, 4.3],\n",
              "       [5.1, 3. ],\n",
              "       [5.7, 4.1]])"
            ]
          },
          "metadata": {},
          "execution_count": 223
        }
      ]
    },
    {
      "metadata": {
        "ExecuteTime": {
          "end_time": "2017-10-08T11:34:30.944416Z",
          "start_time": "2017-10-08T11:34:30.938947Z"
        },
        "collapsed": true,
        "id": "rKT_mN4JXtI2"
      },
      "cell_type": "markdown",
      "source": [
        "### Passo 1: transformar o array numpy em tensores torch"
      ]
    },
    {
      "metadata": {
        "ExecuteTime": {
          "end_time": "2017-10-08T11:34:30.944416Z",
          "start_time": "2017-10-08T11:34:30.938947Z"
        },
        "id": "jkYfJyn9XtI3"
      },
      "cell_type": "code",
      "source": [
        "#Transformar dados em Tensores\n",
        "\n",
        "x_data = torch.FloatTensor(x_data)\n",
        "target = torch.FloatTensor(target)"
      ],
      "execution_count": 224,
      "outputs": []
    },
    {
      "metadata": {
        "ExecuteTime": {
          "end_time": "2017-10-08T11:34:30.944416Z",
          "start_time": "2017-10-08T11:34:30.938947Z"
        },
        "collapsed": true,
        "id": "LntBWpdFXtI4"
      },
      "cell_type": "markdown",
      "source": [
        "### Passo 2: usar `TensorDataset` para criar o dataset com os tensores"
      ]
    },
    {
      "metadata": {
        "ExecuteTime": {
          "end_time": "2017-10-08T11:34:30.944416Z",
          "start_time": "2017-10-08T11:34:30.938947Z"
        },
        "id": "VySgPyZ5XtI5",
        "colab": {
          "base_uri": "https://localhost:8080/"
        },
        "outputId": "176c6a1b-1dce-4c00-c343-3e63c2d499ec"
      },
      "cell_type": "code",
      "source": [
        "dataset = TensorDataset(x_data, target)\n",
        "len(dataset)"
      ],
      "execution_count": 225,
      "outputs": [
        {
          "output_type": "execute_result",
          "data": {
            "text/plain": [
              "50"
            ]
          },
          "metadata": {},
          "execution_count": 225
        }
      ]
    },
    {
      "metadata": {
        "id": "bCsJR3I5XtI9"
      },
      "cell_type": "markdown",
      "source": [
        "O dataset pode ser indexado como uma lista e cada elemento retorna uma tupla:\n",
        "- dado de entrada e\n",
        "- dado de saída."
      ]
    },
    {
      "cell_type": "code",
      "source": [
        "#Valores originais\n",
        "data[0]"
      ],
      "metadata": {
        "colab": {
          "base_uri": "https://localhost:8080/"
        },
        "id": "plhgrByC0WcK",
        "outputId": "eb4e888c-56ba-44a1-9ffd-ca0e6a82ab5a"
      },
      "execution_count": 226,
      "outputs": [
        {
          "output_type": "execute_result",
          "data": {
            "text/plain": [
              "array([7. , 4.7])"
            ]
          },
          "metadata": {},
          "execution_count": 226
        }
      ]
    },
    {
      "cell_type": "code",
      "source": [
        "#Valores no objeto dataset do pytorch\n",
        "dataset[0]"
      ],
      "metadata": {
        "colab": {
          "base_uri": "https://localhost:8080/"
        },
        "id": "A51Hxtt80NRE",
        "outputId": "ffed4eba-9fd0-4411-9f80-ac4136683e30"
      },
      "execution_count": 227,
      "outputs": [
        {
          "output_type": "execute_result",
          "data": {
            "text/plain": [
              "(tensor([7.]), tensor([4.7000]))"
            ]
          },
          "metadata": {},
          "execution_count": 227
        }
      ]
    },
    {
      "metadata": {
        "ExecuteTime": {
          "end_time": "2017-10-08T11:34:30.953173Z",
          "start_time": "2017-10-08T11:34:30.947028Z"
        },
        "id": "KgjhWW2mXtI-",
        "colab": {
          "base_uri": "https://localhost:8080/"
        },
        "outputId": "d0257dd7-f228-4b57-9c04-059ec9933582"
      },
      "cell_type": "code",
      "source": [
        "i = 10\n",
        "(x, y) = dataset[i]\n",
        "\n",
        "print('sépala:', x)\n",
        "print('pétala:', y)"
      ],
      "execution_count": 228,
      "outputs": [
        {
          "output_type": "stream",
          "name": "stdout",
          "text": [
            "sépala: tensor([5.])\n",
            "pétala: tensor([3.5000])\n"
          ]
        }
      ]
    },
    {
      "metadata": {
        "id": "sSxu2nTVXtJB"
      },
      "cell_type": "markdown",
      "source": [
        "## Criando um Dataset com `torch.utils.data.Dataset`"
      ]
    },
    {
      "metadata": {
        "id": "2aXx_aeIXtJC"
      },
      "cell_type": "markdown",
      "source": [
        "É possível criar uma nova classe personalizada representando um dataset. Esta classe deve herdar de [torch.utils.data.Dataset](http://pytorch.org/docs/master/data.html#torch.utils.data.Dataset) para tratar casos mais complexos e especiais."
      ]
    },
    {
      "metadata": {
        "id": "Sx8Q-pnYXtJD"
      },
      "cell_type": "markdown",
      "source": [
        "### Estrutura do Dataset"
      ]
    },
    {
      "metadata": {
        "id": "MPn4YrH2XtJD"
      },
      "cell_type": "markdown",
      "source": [
        "Sempre que se herda de `Dataset` é preciso implementar os métodos:\n",
        "- `__len__`: para retornar o tamanho do dataset, e\n",
        "- `__getitem__`: para retornar um elemento de um índice dado.\n",
        "\n",
        "O método `__len__` é chamado quando usamos a chamada `len(dataset)` do Python e `__getitem__` é chamado quando fazemos a indexação `dataset[i]`.\n",
        "\n",
        "É possível inicializar variáveis da classe no construtor (`__init__`) do dataset."
      ]
    },
    {
      "metadata": {
        "ExecuteTime": {
          "end_time": "2017-10-08T11:34:30.961940Z",
          "start_time": "2017-10-08T11:34:30.955215Z"
        },
        "id": "1p3sC5eMXtJE"
      },
      "cell_type": "code",
      "source": [
        "#Criaçaõ de classe personalizada Dataset\n",
        "\n",
        "from torch.utils.data import Dataset\n",
        "\n",
        "class IrisDataset(Dataset):\n",
        "    def __init__(self, x_data, target):\n",
        "        super(IrisDataset, self).__init__()\n",
        "\n",
        "        self.data = x_data\n",
        "        self.target = target\n",
        "\n",
        "    def __len__(self):\n",
        "        return self.data.shape[0]\n",
        "\n",
        "    def __getitem__(self, index):\n",
        "\n",
        "        sepala = self.data[index]\n",
        "        petala = self.target[index]\n",
        "\n",
        "        return (sepala, petala)"
      ],
      "execution_count": 229,
      "outputs": []
    },
    {
      "metadata": {
        "id": "xsEvgmWIXtJG"
      },
      "cell_type": "markdown",
      "source": [
        "Nossa classe está pronta, podemos criar um objeto dela."
      ]
    },
    {
      "metadata": {
        "ExecuteTime": {
          "end_time": "2017-10-08T11:34:30.998713Z",
          "start_time": "2017-10-08T11:34:30.994307Z"
        },
        "collapsed": true,
        "id": "5uovh-cbXtJH"
      },
      "cell_type": "markdown",
      "source": [
        "### Criando e testando um objeto da nossa classe"
      ]
    },
    {
      "metadata": {
        "id": "PdN1HFfwXtJI"
      },
      "cell_type": "markdown",
      "source": [
        "Para exemplificar o uso de classes de transformação os dados foram novamente gerados como array numpy."
      ]
    },
    {
      "metadata": {
        "ExecuteTime": {
          "end_time": "2017-10-08T11:34:30.998713Z",
          "start_time": "2017-10-08T11:34:30.994307Z"
        },
        "id": "PyCtArb2XtJJ"
      },
      "cell_type": "code",
      "source": [
        "x = data[:,0:1]\n",
        "y = data[:,1:2]\n",
        "\n",
        "dataset = IrisDataset(x, y)"
      ],
      "execution_count": 230,
      "outputs": []
    },
    {
      "metadata": {
        "id": "GxfSIFiuXtJN"
      },
      "cell_type": "markdown",
      "source": [
        "Nosso método `__len__` deve retornar o tamanho da primeira dimensão dos dados.\n",
        "\n",
        "Podemos verificar se o método está correto chamando o `len()` do Python:"
      ]
    },
    {
      "metadata": {
        "ExecuteTime": {
          "end_time": "2017-10-08T11:34:31.007017Z",
          "start_time": "2017-10-08T11:34:31.001464Z"
        },
        "scrolled": true,
        "id": "94n8oH_hXtJO",
        "colab": {
          "base_uri": "https://localhost:8080/"
        },
        "outputId": "451f8bb4-786f-4d94-e7da-c21edcc6aac2"
      },
      "cell_type": "code",
      "source": [
        "len(dataset)"
      ],
      "execution_count": 231,
      "outputs": [
        {
          "output_type": "execute_result",
          "data": {
            "text/plain": [
              "50"
            ]
          },
          "metadata": {},
          "execution_count": 231
        }
      ]
    },
    {
      "metadata": {
        "id": "dGWPm9GcXtJS"
      },
      "cell_type": "markdown",
      "source": [
        "Nosso método `__getitem__()` deve retornar uma tupla na i-ésima posição no dataset, no nosso caso `data[i]` e `target[i]`:"
      ]
    },
    {
      "metadata": {
        "ExecuteTime": {
          "end_time": "2017-10-08T11:34:31.017354Z",
          "start_time": "2017-10-08T11:34:31.009628Z"
        },
        "scrolled": true,
        "id": "c0Fqqol-XtJT",
        "colab": {
          "base_uri": "https://localhost:8080/"
        },
        "outputId": "634853b5-8314-484c-e608-5f0cafa8cf5b"
      },
      "cell_type": "code",
      "source": [
        "i = 1\n",
        "print(dataset[i])"
      ],
      "execution_count": 232,
      "outputs": [
        {
          "output_type": "stream",
          "name": "stdout",
          "text": [
            "(array([6.4]), array([4.5]))\n"
          ]
        }
      ]
    },
    {
      "metadata": {
        "ExecuteTime": {
          "end_time": "2017-10-08T11:34:31.043575Z",
          "start_time": "2017-10-08T11:34:31.035989Z"
        },
        "id": "Sglim3OmXtJW",
        "colab": {
          "base_uri": "https://localhost:8080/"
        },
        "outputId": "92cf7c17-44b8-47e3-8c70-96de61408e6b"
      },
      "cell_type": "code",
      "source": [
        "data, target = dataset[1]\n",
        "\n",
        "print('sépala:', data)\n",
        "print('pétala:', target)"
      ],
      "execution_count": 233,
      "outputs": [
        {
          "output_type": "stream",
          "name": "stdout",
          "text": [
            "sépala: [6.4]\n",
            "pétala: [4.5]\n"
          ]
        }
      ]
    },
    {
      "metadata": {
        "id": "R8QOkAGcXtJc"
      },
      "cell_type": "markdown",
      "source": [
        "### Conclusão"
      ]
    },
    {
      "metadata": {
        "id": "rJkF73ObXtJe"
      },
      "cell_type": "markdown",
      "source": [
        "O caso apresentado neste tópico é muito simples, apresentando os conceitos básicos da estrutura que o Pytorch utiliza para representar datasets. A classe torch.utils.data.Dataset é usada para casos complexos em que é preciso, por exemplo, carregar o dataset de arquivos e quando o gerenciamento dos dados não é tão trivial ou quando queremos aplicar uma transformação ao dado."
      ]
    },
    {
      "metadata": {
        "id": "rcFO6yCTXtJe"
      },
      "cell_type": "markdown",
      "source": [
        "# DataLoaders"
      ]
    },
    {
      "metadata": {
        "id": "CGAZRZ_RXtJf"
      },
      "cell_type": "markdown",
      "source": [
        "Um DataLoader ([torch.utils.data.DataLoader](http://pytorch.org/docs/master/data.html#torch.utils.data.DataLoader)) combina um Dataset e um Sampler (divide os dados em batches).\n",
        "\n",
        "O DataLoader permite que os dados possam ser processados na forma de \"mini-batches\". A cada nova chamada do objeto criado com o DataLoader, um novo conjunto de dados é retornado. O DataLoader é a ferramenta do PyTorch para implementar o treinamento do gradiente descendente por \"mini-batches\". O treinamento por mini-batches possui duas grandes vantagens:\n",
        "- Implementa o gradiente descendente estocástico via mini-batch, que acelera o treinamento;\n",
        "- Permite que os dados do mini-batch a serem otimizados caibam na memória (normalmente da GPU).\n"
      ]
    },
    {
      "metadata": {
        "id": "IvfURxInXtJg"
      },
      "cell_type": "markdown",
      "source": [
        "## Criando um DataLoader"
      ]
    },
    {
      "metadata": {
        "id": "7GwoOHcYXtJg"
      },
      "cell_type": "markdown",
      "source": [
        "Vamos utilizar o dataset já criado anteriormente para ser a fonte de dados do nosso DataLoader."
      ]
    },
    {
      "metadata": {
        "ExecuteTime": {
          "end_time": "2017-10-08T11:34:31.066111Z",
          "start_time": "2017-10-08T11:34:31.057572Z"
        },
        "id": "lGMBy8jJXtJi",
        "colab": {
          "base_uri": "https://localhost:8080/"
        },
        "outputId": "d950bc7b-5f44-40ed-b514-e0d693ee86dd"
      },
      "cell_type": "code",
      "source": [
        "print('tamanho do dataset: ', len(dataset))\n",
        "print('amostra 12:', dataset[12])"
      ],
      "execution_count": 234,
      "outputs": [
        {
          "output_type": "stream",
          "name": "stdout",
          "text": [
            "tamanho do dataset:  50\n",
            "amostra 12: (array([6.]), array([4.]))\n"
          ]
        }
      ]
    },
    {
      "metadata": {
        "id": "OfFyPxd7XtJj"
      },
      "cell_type": "markdown",
      "source": [
        "Agora podemos criar o DataLoader com o dataset"
      ]
    },
    {
      "metadata": {
        "ExecuteTime": {
          "end_time": "2017-10-08T11:34:31.074580Z",
          "start_time": "2017-10-08T11:34:31.068844Z"
        },
        "id": "O75HXOhUXtJl"
      },
      "cell_type": "code",
      "source": [
        "from torch.utils.data import DataLoader\n",
        "\n",
        "data_loader = DataLoader(dataset,\n",
        "                         batch_size=10, # tamanho do mini-batch de dados\n",
        "                         shuffle=False) # se for True, embaralha os dados no inicio de cada iteração"
      ],
      "execution_count": 235,
      "outputs": []
    },
    {
      "metadata": {
        "id": "wQNpxQHHXtJo"
      },
      "cell_type": "markdown",
      "source": [
        "## Iterando sobre o DataLoader"
      ]
    },
    {
      "metadata": {
        "id": "J7m5faP8XtJo"
      },
      "cell_type": "markdown",
      "source": [
        "Podemos iterar sobre o DataLoader utilizando um `for`"
      ]
    },
    {
      "metadata": {
        "ExecuteTime": {
          "end_time": "2017-10-08T11:34:31.130351Z",
          "start_time": "2017-10-08T11:34:31.076932Z"
        },
        "id": "52_ND2zOXtJp",
        "colab": {
          "base_uri": "https://localhost:8080/"
        },
        "outputId": "074582b2-0d6f-4b05-a6f9-d5b0b0b69e34"
      },
      "cell_type": "code",
      "source": [
        "batch_n = 0\n",
        "n_samples = 0\n",
        "for data in data_loader:\n",
        "    print('batch ', batch_n)\n",
        "    batch_n += 1\n",
        "    n_samples += len(data[0])\n",
        "\n",
        "print('tamanho do DataLoader', len(data_loader))\n",
        "print('tamanho do dataset', n_samples)"
      ],
      "execution_count": 236,
      "outputs": [
        {
          "output_type": "stream",
          "name": "stdout",
          "text": [
            "batch  0\n",
            "batch  1\n",
            "batch  2\n",
            "batch  3\n",
            "batch  4\n",
            "tamanho do DataLoader 5\n",
            "tamanho do dataset 50\n"
          ]
        }
      ]
    },
    {
      "metadata": {
        "id": "RLx-IiHLXtJt"
      },
      "cell_type": "markdown",
      "source": [
        "O tamanho do DataLoader é 5, pois temos batches de tamanho 10 dados no dataloader.\n",
        "\n",
        "Agora podemos utilizar os dados do DataLoader:"
      ]
    },
    {
      "metadata": {
        "ExecuteTime": {
          "end_time": "2017-10-08T11:34:31.170947Z",
          "start_time": "2017-10-08T11:34:31.134178Z"
        },
        "id": "V46WUIFyXtJu",
        "colab": {
          "base_uri": "https://localhost:8080/"
        },
        "outputId": "692dedbd-7011-43aa-ea26-5f04c5c385e1"
      },
      "cell_type": "code",
      "source": [
        "batch_n = 0\n",
        "\n",
        "for data in data_loader:\n",
        "    # separa a tupla em petalas e sépalas\n",
        "    data_batch, targets_batch = data\n",
        "\n",
        "    print('dimensão do batch de sépalas {}:   {}'.format(batch_n, data_batch.size()))\n",
        "    print('dimensão do batch de pétalas {}: {}\\n'.format(batch_n, targets_batch.size()))\n",
        "    batch_n += 1\n"
      ],
      "execution_count": 237,
      "outputs": [
        {
          "output_type": "stream",
          "name": "stdout",
          "text": [
            "dimensão do batch de sépalas 0:   torch.Size([10, 1])\n",
            "dimensão do batch de pétalas 0: torch.Size([10, 1])\n",
            "\n",
            "dimensão do batch de sépalas 1:   torch.Size([10, 1])\n",
            "dimensão do batch de pétalas 1: torch.Size([10, 1])\n",
            "\n",
            "dimensão do batch de sépalas 2:   torch.Size([10, 1])\n",
            "dimensão do batch de pétalas 2: torch.Size([10, 1])\n",
            "\n",
            "dimensão do batch de sépalas 3:   torch.Size([10, 1])\n",
            "dimensão do batch de pétalas 3: torch.Size([10, 1])\n",
            "\n",
            "dimensão do batch de sépalas 4:   torch.Size([10, 1])\n",
            "dimensão do batch de pétalas 4: torch.Size([10, 1])\n",
            "\n"
          ]
        }
      ]
    },
    {
      "cell_type": "code",
      "source": [
        "#Visualização dos dados em cada batch\n",
        "\n",
        "for data in data_loader:\n",
        "\n",
        "  print('X')\n",
        "  print(data_batch)\n",
        "  print()\n",
        "  print('target')\n",
        "  print(targets_batch)"
      ],
      "metadata": {
        "colab": {
          "base_uri": "https://localhost:8080/"
        },
        "id": "bCIBFu5t3X-6",
        "outputId": "251b59b3-68c1-4455-9ba7-33354c61e833"
      },
      "execution_count": 238,
      "outputs": [
        {
          "output_type": "stream",
          "name": "stdout",
          "text": [
            "X\n",
            "tensor([[5.5000],\n",
            "        [6.1000],\n",
            "        [5.8000],\n",
            "        [5.0000],\n",
            "        [5.6000],\n",
            "        [5.7000],\n",
            "        [5.7000],\n",
            "        [6.2000],\n",
            "        [5.1000],\n",
            "        [5.7000]], dtype=torch.float64)\n",
            "\n",
            "target\n",
            "tensor([[4.4000],\n",
            "        [4.6000],\n",
            "        [4.0000],\n",
            "        [3.3000],\n",
            "        [4.2000],\n",
            "        [4.2000],\n",
            "        [4.2000],\n",
            "        [4.3000],\n",
            "        [3.0000],\n",
            "        [4.1000]], dtype=torch.float64)\n",
            "X\n",
            "tensor([[5.5000],\n",
            "        [6.1000],\n",
            "        [5.8000],\n",
            "        [5.0000],\n",
            "        [5.6000],\n",
            "        [5.7000],\n",
            "        [5.7000],\n",
            "        [6.2000],\n",
            "        [5.1000],\n",
            "        [5.7000]], dtype=torch.float64)\n",
            "\n",
            "target\n",
            "tensor([[4.4000],\n",
            "        [4.6000],\n",
            "        [4.0000],\n",
            "        [3.3000],\n",
            "        [4.2000],\n",
            "        [4.2000],\n",
            "        [4.2000],\n",
            "        [4.3000],\n",
            "        [3.0000],\n",
            "        [4.1000]], dtype=torch.float64)\n",
            "X\n",
            "tensor([[5.5000],\n",
            "        [6.1000],\n",
            "        [5.8000],\n",
            "        [5.0000],\n",
            "        [5.6000],\n",
            "        [5.7000],\n",
            "        [5.7000],\n",
            "        [6.2000],\n",
            "        [5.1000],\n",
            "        [5.7000]], dtype=torch.float64)\n",
            "\n",
            "target\n",
            "tensor([[4.4000],\n",
            "        [4.6000],\n",
            "        [4.0000],\n",
            "        [3.3000],\n",
            "        [4.2000],\n",
            "        [4.2000],\n",
            "        [4.2000],\n",
            "        [4.3000],\n",
            "        [3.0000],\n",
            "        [4.1000]], dtype=torch.float64)\n",
            "X\n",
            "tensor([[5.5000],\n",
            "        [6.1000],\n",
            "        [5.8000],\n",
            "        [5.0000],\n",
            "        [5.6000],\n",
            "        [5.7000],\n",
            "        [5.7000],\n",
            "        [6.2000],\n",
            "        [5.1000],\n",
            "        [5.7000]], dtype=torch.float64)\n",
            "\n",
            "target\n",
            "tensor([[4.4000],\n",
            "        [4.6000],\n",
            "        [4.0000],\n",
            "        [3.3000],\n",
            "        [4.2000],\n",
            "        [4.2000],\n",
            "        [4.2000],\n",
            "        [4.3000],\n",
            "        [3.0000],\n",
            "        [4.1000]], dtype=torch.float64)\n",
            "X\n",
            "tensor([[5.5000],\n",
            "        [6.1000],\n",
            "        [5.8000],\n",
            "        [5.0000],\n",
            "        [5.6000],\n",
            "        [5.7000],\n",
            "        [5.7000],\n",
            "        [6.2000],\n",
            "        [5.1000],\n",
            "        [5.7000]], dtype=torch.float64)\n",
            "\n",
            "target\n",
            "tensor([[4.4000],\n",
            "        [4.6000],\n",
            "        [4.0000],\n",
            "        [3.3000],\n",
            "        [4.2000],\n",
            "        [4.2000],\n",
            "        [4.2000],\n",
            "        [4.3000],\n",
            "        [3.0000],\n",
            "        [4.1000]], dtype=torch.float64)\n"
          ]
        }
      ]
    },
    {
      "metadata": {
        "id": "eRpUfq1BXtJy"
      },
      "cell_type": "markdown",
      "source": [
        "É possível ver que os batches tem mesmo 10 dados (5 matrizes 10x1 para as sépalas e 5 matrizes 10x1 para as pétalas)"
      ]
    },
    {
      "metadata": {
        "id": "9oZkgCTtXtJz"
      },
      "cell_type": "markdown",
      "source": [
        "No exemplo abaixo é possível ver que, com shuffle igual o False, os dados de cada mini-batch são sempre os mesmos. Cada cor contém os dados de um mini-batch:"
      ]
    },
    {
      "metadata": {
        "id": "AWh6f-CzXtJz"
      },
      "cell_type": "code",
      "source": [
        "%matplotlib inline\n",
        "import matplotlib.pyplot as plt"
      ],
      "execution_count": 239,
      "outputs": []
    },
    {
      "metadata": {
        "id": "A0jgIiY4XtJ2"
      },
      "cell_type": "code",
      "source": [
        "data_loader = DataLoader(dataset,\n",
        "                         batch_size=10, # tamanho do mini-batch de dados\n",
        "                         shuffle=False) # se for True, embaralha os dados no inicio de cada iteração"
      ],
      "execution_count": 240,
      "outputs": []
    },
    {
      "metadata": {
        "scrolled": true,
        "id": "zK81UeTfXtJ5",
        "colab": {
          "base_uri": "https://localhost:8080/",
          "height": 487
        },
        "outputId": "88f2b2c7-a0c3-4329-c9f7-7bac42386958"
      },
      "cell_type": "code",
      "source": [
        "color = [\"b\",\"g\",\"r\",\"c\",\"m\"]\n",
        "mark = ['+', '.', '^', 'o', 'x']\n",
        "fig = plt.figure(figsize=(16,5))\n",
        "ax1 = fig.add_subplot(1,2,1)\n",
        "ax1.set_xlabel('Comprimento sepalas')\n",
        "ax1.set_ylabel('Comprimento petalas')\n",
        "ax1.set_title('Primeira iteração')\n",
        "\n",
        "for i,data in enumerate(data_loader):\n",
        "    # separa a tupla em petalas e sépalas\n",
        "    data_batch, targets_batch = data\n",
        "\n",
        "    ax1.scatter(data_batch, targets_batch, c=color[i], marker=mark[i])\n",
        "\n",
        "ax2 = fig.add_subplot(1,2,2)\n",
        "ax2.set_xlabel('Comprimento normalizado sepalas')\n",
        "ax2.set_ylabel('Comprimento normalizado petalas')\n",
        "ax2.set_title('Segunda iteração')\n",
        "\n",
        "for i,data in enumerate(data_loader):\n",
        "    # separa a tupla em petalas e sépalas\n",
        "    data_batch, targets_batch = data\n",
        "\n",
        "    ax2.scatter(data_batch, targets_batch, c=color[i], marker=mark[i])\n"
      ],
      "execution_count": 241,
      "outputs": [
        {
          "output_type": "display_data",
          "data": {
            "text/plain": [
              "<Figure size 1600x500 with 2 Axes>"
            ],
            "image/png": "[encoded data removed]"
          },
          "metadata": {}
        }
      ]
    },
    {
      "metadata": {
        "id": "_VMdMz7cXtJ9"
      },
      "cell_type": "markdown",
      "source": [
        "Com shuffle igual a True, os dados do mini-batch sempre mudam a cada iteração:"
      ]
    },
    {
      "metadata": {
        "id": "dCCSaXaIXtJ9"
      },
      "cell_type": "code",
      "source": [
        "data_loader = DataLoader(dataset,\n",
        "                         batch_size=10, # tamanho do mini-batch de dados\n",
        "                         shuffle=True)  # se for True, embaralha os dados no inicio de cada iteração"
      ],
      "execution_count": 242,
      "outputs": []
    },
    {
      "metadata": {
        "id": "YYtZiYCSXtKA",
        "colab": {
          "base_uri": "https://localhost:8080/",
          "height": 487
        },
        "outputId": "fd20b2b4-b3ba-4687-b230-41b1626f513a"
      },
      "cell_type": "code",
      "source": [
        "color = [\"b\",\"g\",\"r\",\"c\",\"m\"]\n",
        "mark = ['+', '.', '^', 'o', 'x']\n",
        "fig = plt.figure(figsize=(16,5))\n",
        "ax1 = fig.add_subplot(1,2,1)\n",
        "ax1.set_xlabel('Comprimento sepalas')\n",
        "ax1.set_ylabel('Comprimento petalas')\n",
        "ax1.set_title('Primeira iteração')\n",
        "\n",
        "for i,data in enumerate(data_loader):\n",
        "    # separa a tupla em petalas e sépalas\n",
        "    data_batch, targets_batch = data\n",
        "\n",
        "    ax1.scatter(data_batch, targets_batch, c=color[i], marker=mark[i])\n",
        "\n",
        "ax2 = fig.add_subplot(1,2,2)\n",
        "ax2.set_xlabel('Comprimento normalizado sepalas')\n",
        "ax2.set_ylabel('Comprimento normalizado petalas')\n",
        "ax2.set_title('Segunda iteração')\n",
        "\n",
        "for i,data in enumerate(data_loader):\n",
        "    # separa a tupla em petalas e sépalas\n",
        "    data_batch, targets_batch = data\n",
        "\n",
        "    ax2.scatter(data_batch, targets_batch, c=color[i], marker=mark[i])"
      ],
      "execution_count": 243,
      "outputs": [
        {
          "output_type": "display_data",
          "data": {
            "text/plain": [
              "<Figure size 1600x500 with 2 Axes>"
            ],
            "image/png": "[encoded data removed]"
          },
          "metadata": {}
        }
      ]
    },
    {
      "metadata": {
        "id": "sNtgKfbjXtKD"
      },
      "cell_type": "markdown",
      "source": [
        "## Exercício"
      ]
    },
    {
      "metadata": {
        "id": "d6HnqM_CXtKE"
      },
      "cell_type": "markdown",
      "source": [
        "Defina seu próprio DataLoader na segunda célula abaixo. Faça com que\n",
        "cada batch tenha 5 elementos cada. Utilize o dataset já criado\n",
        "anteriormente.\n",
        "Em seguida imprima o tamanho do Dataloader e tamanho do Dataset\n"
      ]
    },
    {
      "metadata": {
        "ExecuteTime": {
          "end_time": "2017-10-08T11:34:31.627239Z",
          "start_time": "2017-10-08T11:34:31.620886Z"
        },
        "scrolled": false,
        "id": "fhxc-KGmXtKH",
        "colab": {
          "base_uri": "https://localhost:8080/"
        },
        "outputId": "85993518-374a-460a-8968-b0eee81da517"
      },
      "cell_type": "code",
      "source": [
        "# --- DataLoader com batches de 5 elementos cada ---\n",
        "data_loader = DataLoader(batch_size=5,\n",
        "                         dataset=dataset,\n",
        "                         shuffle=False)\n",
        "\n",
        "batch_n = 0\n",
        "n_samples = 0\n",
        "for data in data_loader:\n",
        "    print('batch ', batch_n)\n",
        "    batch_n += 1\n",
        "    n_samples += len(data[0])\n",
        "\n",
        "print('tamanho do DataLoader', len(data_loader))\n",
        "print('tamanho do dataset', n_samples)"
      ],
      "execution_count": 244,
      "outputs": [
        {
          "output_type": "stream",
          "name": "stdout",
          "text": [
            "batch  0\n",
            "batch  1\n",
            "batch  2\n",
            "batch  3\n",
            "batch  4\n",
            "batch  5\n",
            "batch  6\n",
            "batch  7\n",
            "batch  8\n",
            "batch  9\n",
            "tamanho do DataLoader 10\n",
            "tamanho do dataset 50\n"
          ]
        }
      ]
    },
    {
      "cell_type": "code",
      "source": [
        "#Valores de cada batch\n",
        "\n",
        "for data in data_loader:\n",
        "  print(data_batch, targets_batch)"
      ],
      "metadata": {
        "colab": {
          "base_uri": "https://localhost:8080/"
        },
        "id": "t1THhNPBY1Eq",
        "outputId": "23e0903b-18dd-447b-c34e-67d0bd0b47a4"
      },
      "execution_count": 245,
      "outputs": [
        {
          "output_type": "stream",
          "name": "stdout",
          "text": [
            "tensor([[5.6000],\n",
            "        [5.9000],\n",
            "        [5.7000],\n",
            "        [5.5000],\n",
            "        [6.6000],\n",
            "        [5.7000],\n",
            "        [6.7000],\n",
            "        [6.6000],\n",
            "        [6.1000],\n",
            "        [6.1000]], dtype=torch.float64) tensor([[4.5000],\n",
            "        [4.8000],\n",
            "        [4.2000],\n",
            "        [4.0000],\n",
            "        [4.4000],\n",
            "        [4.1000],\n",
            "        [5.0000],\n",
            "        [4.6000],\n",
            "        [4.7000],\n",
            "        [4.6000]], dtype=torch.float64)\n",
            "tensor([[5.6000],\n",
            "        [5.9000],\n",
            "        [5.7000],\n",
            "        [5.5000],\n",
            "        [6.6000],\n",
            "        [5.7000],\n",
            "        [6.7000],\n",
            "        [6.6000],\n",
            "        [6.1000],\n",
            "        [6.1000]], dtype=torch.float64) tensor([[4.5000],\n",
            "        [4.8000],\n",
            "        [4.2000],\n",
            "        [4.0000],\n",
            "        [4.4000],\n",
            "        [4.1000],\n",
            "        [5.0000],\n",
            "        [4.6000],\n",
            "        [4.7000],\n",
            "        [4.6000]], dtype=torch.float64)\n",
            "tensor([[5.6000],\n",
            "        [5.9000],\n",
            "        [5.7000],\n",
            "        [5.5000],\n",
            "        [6.6000],\n",
            "        [5.7000],\n",
            "        [6.7000],\n",
            "        [6.6000],\n",
            "        [6.1000],\n",
            "        [6.1000]], dtype=torch.float64) tensor([[4.5000],\n",
            "        [4.8000],\n",
            "        [4.2000],\n",
            "        [4.0000],\n",
            "        [4.4000],\n",
            "        [4.1000],\n",
            "        [5.0000],\n",
            "        [4.6000],\n",
            "        [4.7000],\n",
            "        [4.6000]], dtype=torch.float64)\n",
            "tensor([[5.6000],\n",
            "        [5.9000],\n",
            "        [5.7000],\n",
            "        [5.5000],\n",
            "        [6.6000],\n",
            "        [5.7000],\n",
            "        [6.7000],\n",
            "        [6.6000],\n",
            "        [6.1000],\n",
            "        [6.1000]], dtype=torch.float64) tensor([[4.5000],\n",
            "        [4.8000],\n",
            "        [4.2000],\n",
            "        [4.0000],\n",
            "        [4.4000],\n",
            "        [4.1000],\n",
            "        [5.0000],\n",
            "        [4.6000],\n",
            "        [4.7000],\n",
            "        [4.6000]], dtype=torch.float64)\n",
            "tensor([[5.6000],\n",
            "        [5.9000],\n",
            "        [5.7000],\n",
            "        [5.5000],\n",
            "        [6.6000],\n",
            "        [5.7000],\n",
            "        [6.7000],\n",
            "        [6.6000],\n",
            "        [6.1000],\n",
            "        [6.1000]], dtype=torch.float64) tensor([[4.5000],\n",
            "        [4.8000],\n",
            "        [4.2000],\n",
            "        [4.0000],\n",
            "        [4.4000],\n",
            "        [4.1000],\n",
            "        [5.0000],\n",
            "        [4.6000],\n",
            "        [4.7000],\n",
            "        [4.6000]], dtype=torch.float64)\n",
            "tensor([[5.6000],\n",
            "        [5.9000],\n",
            "        [5.7000],\n",
            "        [5.5000],\n",
            "        [6.6000],\n",
            "        [5.7000],\n",
            "        [6.7000],\n",
            "        [6.6000],\n",
            "        [6.1000],\n",
            "        [6.1000]], dtype=torch.float64) tensor([[4.5000],\n",
            "        [4.8000],\n",
            "        [4.2000],\n",
            "        [4.0000],\n",
            "        [4.4000],\n",
            "        [4.1000],\n",
            "        [5.0000],\n",
            "        [4.6000],\n",
            "        [4.7000],\n",
            "        [4.6000]], dtype=torch.float64)\n",
            "tensor([[5.6000],\n",
            "        [5.9000],\n",
            "        [5.7000],\n",
            "        [5.5000],\n",
            "        [6.6000],\n",
            "        [5.7000],\n",
            "        [6.7000],\n",
            "        [6.6000],\n",
            "        [6.1000],\n",
            "        [6.1000]], dtype=torch.float64) tensor([[4.5000],\n",
            "        [4.8000],\n",
            "        [4.2000],\n",
            "        [4.0000],\n",
            "        [4.4000],\n",
            "        [4.1000],\n",
            "        [5.0000],\n",
            "        [4.6000],\n",
            "        [4.7000],\n",
            "        [4.6000]], dtype=torch.float64)\n",
            "tensor([[5.6000],\n",
            "        [5.9000],\n",
            "        [5.7000],\n",
            "        [5.5000],\n",
            "        [6.6000],\n",
            "        [5.7000],\n",
            "        [6.7000],\n",
            "        [6.6000],\n",
            "        [6.1000],\n",
            "        [6.1000]], dtype=torch.float64) tensor([[4.5000],\n",
            "        [4.8000],\n",
            "        [4.2000],\n",
            "        [4.0000],\n",
            "        [4.4000],\n",
            "        [4.1000],\n",
            "        [5.0000],\n",
            "        [4.6000],\n",
            "        [4.7000],\n",
            "        [4.6000]], dtype=torch.float64)\n",
            "tensor([[5.6000],\n",
            "        [5.9000],\n",
            "        [5.7000],\n",
            "        [5.5000],\n",
            "        [6.6000],\n",
            "        [5.7000],\n",
            "        [6.7000],\n",
            "        [6.6000],\n",
            "        [6.1000],\n",
            "        [6.1000]], dtype=torch.float64) tensor([[4.5000],\n",
            "        [4.8000],\n",
            "        [4.2000],\n",
            "        [4.0000],\n",
            "        [4.4000],\n",
            "        [4.1000],\n",
            "        [5.0000],\n",
            "        [4.6000],\n",
            "        [4.7000],\n",
            "        [4.6000]], dtype=torch.float64)\n",
            "tensor([[5.6000],\n",
            "        [5.9000],\n",
            "        [5.7000],\n",
            "        [5.5000],\n",
            "        [6.6000],\n",
            "        [5.7000],\n",
            "        [6.7000],\n",
            "        [6.6000],\n",
            "        [6.1000],\n",
            "        [6.1000]], dtype=torch.float64) tensor([[4.5000],\n",
            "        [4.8000],\n",
            "        [4.2000],\n",
            "        [4.0000],\n",
            "        [4.4000],\n",
            "        [4.1000],\n",
            "        [5.0000],\n",
            "        [4.6000],\n",
            "        [4.7000],\n",
            "        [4.6000]], dtype=torch.float64)\n"
          ]
        }
      ]
    },
    {
      "metadata": {
        "id": "SFljrkFiXtKJ"
      },
      "cell_type": "markdown",
      "source": [
        "- A ordem dos elementos se altera entre execuções da célula acima? **Não, a ordem dos elementos do batch se mantém a mesma após cada execução pois o Shuffle foi setado como False**\n",
        "- Tente colocar o parametro `shuffle` do DataLoader como `True` e obsreve o resultado do exercício, rodando várias vezes. **Ao listar Shuffle como True, os elementos do batch mudam após cada iteração, conforme código abaixo**"
      ]
    },
    {
      "metadata": {
        "ExecuteTime": {
          "end_time": "2017-10-08T11:34:31.627239Z",
          "start_time": "2017-10-08T11:34:31.620886Z"
        },
        "scrolled": false,
        "colab": {
          "base_uri": "https://localhost:8080/"
        },
        "outputId": "fd40edf0-4f90-4ffc-c791-dd12e9359761",
        "id": "QXyThKRsZeEp"
      },
      "cell_type": "code",
      "source": [
        "# -- Defina aqui seu DataLoader com batches de 5 elementos cada ---\n",
        "data_loader2 = DataLoader(batch_size=5,\n",
        "                         dataset=dataset,\n",
        "                         shuffle=True)\n",
        "\n",
        "batch_n = 0\n",
        "n_samples = 0\n",
        "for data in data_loader2:\n",
        "    data_batch, targets_batch = data\n",
        "    print('batch ', batch_n)\n",
        "    batch_n += 1\n",
        "    n_samples += len(data[0])\n",
        "    print(data_batch, targets_batch)\n",
        "print('tamanho do DataLoader', len(data_loader2))\n",
        "print('tamanho do dataset', n_samples)\n",
        "\n"
      ],
      "execution_count": 247,
      "outputs": [
        {
          "output_type": "stream",
          "name": "stdout",
          "text": [
            "batch  0\n",
            "tensor([[5.6000],\n",
            "        [5.8000],\n",
            "        [6.0000],\n",
            "        [5.5000],\n",
            "        [5.9000]], dtype=torch.float64) tensor([[4.5000],\n",
            "        [3.9000],\n",
            "        [4.5000],\n",
            "        [4.0000],\n",
            "        [4.8000]], dtype=torch.float64)\n",
            "batch  1\n",
            "tensor([[6.6000],\n",
            "        [5.1000],\n",
            "        [5.9000],\n",
            "        [7.0000],\n",
            "        [5.7000]], dtype=torch.float64) tensor([[4.4000],\n",
            "        [3.0000],\n",
            "        [4.2000],\n",
            "        [4.7000],\n",
            "        [3.5000]], dtype=torch.float64)\n",
            "batch  2\n",
            "tensor([[5.7000],\n",
            "        [6.7000],\n",
            "        [5.4000],\n",
            "        [6.3000],\n",
            "        [5.8000]], dtype=torch.float64) tensor([[4.5000],\n",
            "        [5.0000],\n",
            "        [4.5000],\n",
            "        [4.9000],\n",
            "        [4.1000]], dtype=torch.float64)\n",
            "batch  3\n",
            "tensor([[6.6000],\n",
            "        [6.2000],\n",
            "        [6.1000],\n",
            "        [6.5000],\n",
            "        [5.6000]], dtype=torch.float64) tensor([[4.6000],\n",
            "        [4.5000],\n",
            "        [4.7000],\n",
            "        [4.6000],\n",
            "        [3.9000]], dtype=torch.float64)\n",
            "batch  4\n",
            "tensor([[5.7000],\n",
            "        [5.7000],\n",
            "        [6.1000],\n",
            "        [5.5000],\n",
            "        [5.5000]], dtype=torch.float64) tensor([[4.1000],\n",
            "        [4.2000],\n",
            "        [4.0000],\n",
            "        [4.4000],\n",
            "        [3.7000]], dtype=torch.float64)\n",
            "batch  5\n",
            "tensor([[6.3000],\n",
            "        [5.5000],\n",
            "        [6.7000],\n",
            "        [6.0000],\n",
            "        [4.9000]], dtype=torch.float64) tensor([[4.4000],\n",
            "        [4.0000],\n",
            "        [4.4000],\n",
            "        [4.0000],\n",
            "        [3.3000]], dtype=torch.float64)\n",
            "batch  6\n",
            "tensor([[6.7000],\n",
            "        [6.1000],\n",
            "        [5.0000],\n",
            "        [6.2000],\n",
            "        [5.6000]], dtype=torch.float64) tensor([[4.7000],\n",
            "        [4.7000],\n",
            "        [3.3000],\n",
            "        [4.3000],\n",
            "        [4.1000]], dtype=torch.float64)\n",
            "batch  7\n",
            "tensor([[6.4000],\n",
            "        [5.2000],\n",
            "        [6.0000],\n",
            "        [5.8000],\n",
            "        [5.5000]], dtype=torch.float64) tensor([[4.5000],\n",
            "        [3.9000],\n",
            "        [4.5000],\n",
            "        [4.0000],\n",
            "        [3.8000]], dtype=torch.float64)\n",
            "batch  8\n",
            "tensor([[5.7000],\n",
            "        [6.9000],\n",
            "        [5.6000],\n",
            "        [5.6000],\n",
            "        [6.3000]], dtype=torch.float64) tensor([[4.2000],\n",
            "        [4.9000],\n",
            "        [4.2000],\n",
            "        [3.6000],\n",
            "        [4.7000]], dtype=torch.float64)\n",
            "batch  9\n",
            "tensor([[5.0000],\n",
            "        [6.1000],\n",
            "        [6.4000],\n",
            "        [6.0000],\n",
            "        [6.8000]], dtype=torch.float64) tensor([[3.5000],\n",
            "        [4.6000],\n",
            "        [4.3000],\n",
            "        [5.1000],\n",
            "        [4.8000]], dtype=torch.float64)\n",
            "tamanho do DataLoader 10\n",
            "tamanho do dataset 50\n"
          ]
        }
      ]
    },
    {
      "cell_type": "code",
      "source": [
        "#Rodando novamente o código para criação do Data_Loader\n",
        "# -- Defina aqui seu DataLoader com batches de 5 elementos cada ---\n",
        "data_loader2 = DataLoader(batch_size=5,\n",
        "                         dataset=dataset,\n",
        "                         shuffle=True)\n",
        "\n",
        "batch_n = 0\n",
        "n_samples = 0\n",
        "for data in data_loader2:\n",
        "    data_batch, targets_batch = data\n",
        "    print('batch ', batch_n)\n",
        "    batch_n += 1\n",
        "    n_samples += len(data[0])\n",
        "    print(data_batch, targets_batch)\n",
        "print('tamanho do DataLoader', len(data_loader2))\n",
        "print('tamanho do dataset', n_samples)"
      ],
      "metadata": {
        "colab": {
          "base_uri": "https://localhost:8080/"
        },
        "id": "yOBUZWwebkLs",
        "outputId": "d31f2b32-6ae0-4d1e-e9ca-2533acc162b8"
      },
      "execution_count": 248,
      "outputs": [
        {
          "output_type": "stream",
          "name": "stdout",
          "text": [
            "batch  0\n",
            "tensor([[5.7000],\n",
            "        [6.0000],\n",
            "        [6.3000],\n",
            "        [5.5000],\n",
            "        [5.0000]], dtype=torch.float64) tensor([[4.2000],\n",
            "        [4.5000],\n",
            "        [4.4000],\n",
            "        [3.8000],\n",
            "        [3.5000]], dtype=torch.float64)\n",
            "batch  1\n",
            "tensor([[6.0000],\n",
            "        [6.0000],\n",
            "        [5.7000],\n",
            "        [6.2000],\n",
            "        [6.6000]], dtype=torch.float64) tensor([[4.5000],\n",
            "        [4.0000],\n",
            "        [4.1000],\n",
            "        [4.3000],\n",
            "        [4.4000]], dtype=torch.float64)\n",
            "batch  2\n",
            "tensor([[6.9000],\n",
            "        [6.8000],\n",
            "        [6.4000],\n",
            "        [6.4000],\n",
            "        [5.6000]], dtype=torch.float64) tensor([[4.9000],\n",
            "        [4.8000],\n",
            "        [4.5000],\n",
            "        [4.3000],\n",
            "        [3.6000]], dtype=torch.float64)\n",
            "batch  3\n",
            "tensor([[6.1000],\n",
            "        [5.5000],\n",
            "        [6.1000],\n",
            "        [4.9000],\n",
            "        [5.4000]], dtype=torch.float64) tensor([[4.7000],\n",
            "        [4.0000],\n",
            "        [4.7000],\n",
            "        [3.3000],\n",
            "        [4.5000]], dtype=torch.float64)\n",
            "batch  4\n",
            "tensor([[5.9000],\n",
            "        [5.9000],\n",
            "        [6.1000],\n",
            "        [5.0000],\n",
            "        [5.8000]], dtype=torch.float64) tensor([[4.8000],\n",
            "        [4.2000],\n",
            "        [4.0000],\n",
            "        [3.3000],\n",
            "        [4.0000]], dtype=torch.float64)\n",
            "batch  5\n",
            "tensor([[6.7000],\n",
            "        [6.7000],\n",
            "        [5.8000],\n",
            "        [5.1000],\n",
            "        [5.2000]], dtype=torch.float64) tensor([[4.7000],\n",
            "        [4.4000],\n",
            "        [3.9000],\n",
            "        [3.0000],\n",
            "        [3.9000]], dtype=torch.float64)\n",
            "batch  6\n",
            "tensor([[6.5000],\n",
            "        [5.8000],\n",
            "        [5.6000],\n",
            "        [5.5000],\n",
            "        [6.0000]], dtype=torch.float64) tensor([[4.6000],\n",
            "        [4.1000],\n",
            "        [4.5000],\n",
            "        [4.4000],\n",
            "        [5.1000]], dtype=torch.float64)\n",
            "batch  7\n",
            "tensor([[6.3000],\n",
            "        [5.6000],\n",
            "        [6.2000],\n",
            "        [5.5000],\n",
            "        [7.0000]], dtype=torch.float64) tensor([[4.7000],\n",
            "        [4.2000],\n",
            "        [4.5000],\n",
            "        [4.0000],\n",
            "        [4.7000]], dtype=torch.float64)\n",
            "batch  8\n",
            "tensor([[5.6000],\n",
            "        [5.6000],\n",
            "        [6.7000],\n",
            "        [5.7000],\n",
            "        [5.5000]], dtype=torch.float64) tensor([[3.9000],\n",
            "        [4.1000],\n",
            "        [5.0000],\n",
            "        [3.5000],\n",
            "        [3.7000]], dtype=torch.float64)\n",
            "batch  9\n",
            "tensor([[6.3000],\n",
            "        [6.6000],\n",
            "        [5.7000],\n",
            "        [5.7000],\n",
            "        [6.1000]], dtype=torch.float64) tensor([[4.9000],\n",
            "        [4.6000],\n",
            "        [4.2000],\n",
            "        [4.5000],\n",
            "        [4.6000]], dtype=torch.float64)\n",
            "tamanho do DataLoader 10\n",
            "tamanho do dataset 50\n"
          ]
        }
      ]
    },
    {
      "metadata": {
        "id": "93tXui2gXtKK"
      },
      "cell_type": "markdown",
      "source": [
        "# Aprendizados\n",
        "\n",
        "https://pytorch.org/tutorials/beginner/basics/data_tutorial.html\n",
        "\n",
        "\n",
        "\n",
        "\n",
        "O trabalho com grandes conjuntos de dados necessários para treinar modelos de deep learning pode ser complexo e computacionalmente exigente. O PyTorch oferece duas primitivas de dados, conjuntos de dados e dataloaders para facilitar o carregamento de dados e tornar o código mais legível.\n",
        "\n",
        "*torch.utils.data.Dataset* armazena amostras de dados e seus rótulos correspondentes\n",
        "*torch.utils.data.Dataloader* envolve um iterável, objeto que pode ser operado, em torno do conjunto de dados para facilitar o acesso às amostras\n",
        "\n",
        "1. Dataset é uma abstração para preparar os dados anotados para a rede (entrada,target).\n",
        "2. Dataloader define a forma de construir mini-batches a serem utilizados no laço de treinamento.\n",
        "3. É através do Dataloader que o PyTorch implementa o gradiente descendente estocástico por mini-batches"
      ]
    },
    {
      "metadata": {
        "id": "yBixTzp1XtKL"
      },
      "cell_type": "code",
      "source": [],
      "execution_count": 248,
      "outputs": []
    }
  ]
}