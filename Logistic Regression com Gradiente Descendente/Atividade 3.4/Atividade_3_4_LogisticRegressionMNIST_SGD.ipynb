{
  "cells": [
    {
      "cell_type": "markdown",
      "metadata": {
        "id": "gbTOc6cbl-eq"
      },
      "source": [
        "# Regressão Softmax com dados do MNIST utilizando gradiente descendente estocástico por minibatches"
      ]
    },
    {
      "cell_type": "markdown",
      "metadata": {
        "id": "C-IK0yRml-er"
      },
      "source": [
        "O objetivo deste notebook é ilustrar\n",
        "- o uso do gradiente estocástico por mini-batchs\n",
        "- utilizando as classes Dataset e DataLoater.\n",
        "\n",
        "A apresentação da perda nos gráficos é um pouco diferente da usual, mostrando a perda de cada um dos vários minibatches dentro de cada época, de forma que as épocas são apresentadas com valores fracionários."
      ]
    },
    {
      "cell_type": "markdown",
      "metadata": {
        "id": "mqqDXfr4l-et"
      },
      "source": [
        "## Importação das bibliotecas"
      ]
    },
    {
      "cell_type": "code",
      "execution_count": 53,
      "metadata": {
        "ExecuteTime": {
          "end_time": "2017-11-24T22:39:50.314578Z",
          "start_time": "2017-11-24T22:39:48.904460Z"
        },
        "id": "0Iry5pajl-eu"
      },
      "outputs": [],
      "source": [
        "%matplotlib inline\n",
        "import numpy as np\n",
        "import matplotlib.pyplot as plt\n",
        "\n",
        "import torch\n",
        "from torch.autograd import Variable\n",
        "from torch.utils.data import DataLoader\n",
        "\n",
        "import torchvision\n",
        "from torchvision.datasets import MNIST"
      ]
    },
    {
      "cell_type": "markdown",
      "metadata": {
        "id": "QqgILyIkl-ey"
      },
      "source": [
        "## Dataset e dataloader"
      ]
    },
    {
      "cell_type": "markdown",
      "metadata": {
        "id": "VAMBUN5ol-ez"
      },
      "source": [
        "### Definição do tamanho do minibatch"
      ]
    },
    {
      "cell_type": "code",
      "execution_count": 54,
      "metadata": {
        "ExecuteTime": {
          "end_time": "2017-11-24T22:39:50.323379Z",
          "start_time": "2017-11-24T22:39:50.318024Z"
        },
        "id": "1YGmeZtbl-ez"
      },
      "outputs": [],
      "source": [
        "#Batches com 100 amostras cada\n",
        "batch_size = 100"
      ]
    },
    {
      "cell_type": "markdown",
      "metadata": {
        "id": "3uaaezsvl-e5"
      },
      "source": [
        "### Carregamento, criação dataset e do dataloader"
      ]
    },
    {
      "cell_type": "code",
      "execution_count": 55,
      "metadata": {
        "ExecuteTime": {
          "end_time": "2017-11-24T22:39:50.400325Z",
          "start_time": "2017-11-24T22:39:50.326019Z"
        },
        "id": "TRXgajEXl-e6",
        "colab": {
          "base_uri": "https://localhost:8080/"
        },
        "outputId": "d76fb8dc-67d1-47b0-cc7c-348c8758b7b6"
      },
      "outputs": [
        {
          "output_type": "stream",
          "name": "stdout",
          "text": [
            "Número de minibatches de trenamento: 600\n",
            "\n",
            "Dimensões dos dados de um minibatch: torch.Size([100, 1, 28, 28])\n",
            "Valores mínimo e máximo dos pixels:  tensor(0.) tensor(1.)\n",
            "Tipo dos dados das imagens:          <class 'torch.Tensor'>\n",
            "Tipo das classes das imagens:        <class 'torch.Tensor'>\n"
          ]
        }
      ],
      "source": [
        "dataset_dir = 'MNIST/'\n",
        "\n",
        "dataset_train = MNIST(dataset_dir, train=True, download=True,\n",
        "                      transform=torchvision.transforms.ToTensor())\n",
        "\n",
        "loader_train = DataLoader(dataset_train, batch_size=batch_size, shuffle=True)\n",
        "\n",
        "\n",
        "print('Número de minibatches de trenamento:', len(loader_train))\n",
        "\n",
        "x_train, y_train = next(iter(loader_train))\n",
        "print(\"\\nDimensões dos dados de um minibatch:\", x_train.size())\n",
        "print(\"Valores mínimo e máximo dos pixels: \", torch.min(x_train), torch.max(x_train))\n",
        "print(\"Tipo dos dados das imagens:         \", type(x_train))\n",
        "print(\"Tipo das classes das imagens:       \", type(y_train))"
      ]
    },
    {
      "cell_type": "markdown",
      "metadata": {
        "id": "Jalws0jHl-fB"
      },
      "source": [
        "### Usando todas as amostras do MNIST\n",
        "\n",
        "Neste exemplo utilizaremos todas as amostras de treinamento."
      ]
    },
    {
      "cell_type": "code",
      "execution_count": 56,
      "metadata": {
        "ExecuteTime": {
          "end_time": "2017-11-24T22:39:50.414117Z",
          "start_time": "2017-11-24T22:39:50.402687Z"
        },
        "id": "TnFMMGDKl-fC",
        "colab": {
          "base_uri": "https://localhost:8080/"
        },
        "outputId": "7625fccf-8ca5-4838-943a-7795d1904d12"
      },
      "outputs": [
        {
          "output_type": "stream",
          "name": "stdout",
          "text": [
            "Número de minibatches de trenamento: 600\n"
          ]
        },
        {
          "output_type": "stream",
          "name": "stderr",
          "text": [
            "/usr/local/lib/python3.11/dist-packages/torchvision/datasets/mnist.py:76: UserWarning: train_data has been renamed data\n",
            "  warnings.warn(\"train_data has been renamed data\")\n"
          ]
        }
      ],
      "source": [
        "print('Número de minibatches de trenamento:', len(loader_train))\n",
        "n_batches_train = len(loader_train)\n",
        "total_samples = dataset_train.train_data.size(0)"
      ]
    },
    {
      "cell_type": "code",
      "source": [
        "dataset_train"
      ],
      "metadata": {
        "colab": {
          "base_uri": "https://localhost:8080/"
        },
        "id": "ef96McmNNz7D",
        "outputId": "911fe5d9-5f62-4fee-dcfb-621d01575c9f"
      },
      "execution_count": 57,
      "outputs": [
        {
          "output_type": "execute_result",
          "data": {
            "text/plain": [
              "Dataset MNIST\n",
              "    Number of datapoints: 60000\n",
              "    Root location: MNIST/\n",
              "    Split: Train\n",
              "    StandardTransform\n",
              "Transform: ToTensor()"
            ]
          },
          "metadata": {},
          "execution_count": 57
        }
      ]
    },
    {
      "cell_type": "code",
      "source": [
        "#Matriz de 28x28 pixels\n",
        "dataset_train.data[0]"
      ],
      "metadata": {
        "colab": {
          "base_uri": "https://localhost:8080/"
        },
        "id": "EIXRL9dLOMUR",
        "outputId": "484ffeee-6243-4add-b628-4936f14c526b"
      },
      "execution_count": 58,
      "outputs": [
        {
          "output_type": "execute_result",
          "data": {
            "text/plain": [
              "tensor([[  0,   0,   0,   0,   0,   0,   0,   0,   0,   0,   0,   0,   0,   0,\n",
              "           0,   0,   0,   0,   0,   0,   0,   0,   0,   0,   0,   0,   0,   0],\n",
              "        [  0,   0,   0,   0,   0,   0,   0,   0,   0,   0,   0,   0,   0,   0,\n",
              "           0,   0,   0,   0,   0,   0,   0,   0,   0,   0,   0,   0,   0,   0],\n",
              "        [  0,   0,   0,   0,   0,   0,   0,   0,   0,   0,   0,   0,   0,   0,\n",
              "           0,   0,   0,   0,   0,   0,   0,   0,   0,   0,   0,   0,   0,   0],\n",
              "        [  0,   0,   0,   0,   0,   0,   0,   0,   0,   0,   0,   0,   0,   0,\n",
              "           0,   0,   0,   0,   0,   0,   0,   0,   0,   0,   0,   0,   0,   0],\n",
              "        [  0,   0,   0,   0,   0,   0,   0,   0,   0,   0,   0,   0,   0,   0,\n",
              "           0,   0,   0,   0,   0,   0,   0,   0,   0,   0,   0,   0,   0,   0],\n",
              "        [  0,   0,   0,   0,   0,   0,   0,   0,   0,   0,   0,   0,   3,  18,\n",
              "          18,  18, 126, 136, 175,  26, 166, 255, 247, 127,   0,   0,   0,   0],\n",
              "        [  0,   0,   0,   0,   0,   0,   0,   0,  30,  36,  94, 154, 170, 253,\n",
              "         253, 253, 253, 253, 225, 172, 253, 242, 195,  64,   0,   0,   0,   0],\n",
              "        [  0,   0,   0,   0,   0,   0,   0,  49, 238, 253, 253, 253, 253, 253,\n",
              "         253, 253, 253, 251,  93,  82,  82,  56,  39,   0,   0,   0,   0,   0],\n",
              "        [  0,   0,   0,   0,   0,   0,   0,  18, 219, 253, 253, 253, 253, 253,\n",
              "         198, 182, 247, 241,   0,   0,   0,   0,   0,   0,   0,   0,   0,   0],\n",
              "        [  0,   0,   0,   0,   0,   0,   0,   0,  80, 156, 107, 253, 253, 205,\n",
              "          11,   0,  43, 154,   0,   0,   0,   0,   0,   0,   0,   0,   0,   0],\n",
              "        [  0,   0,   0,   0,   0,   0,   0,   0,   0,  14,   1, 154, 253,  90,\n",
              "           0,   0,   0,   0,   0,   0,   0,   0,   0,   0,   0,   0,   0,   0],\n",
              "        [  0,   0,   0,   0,   0,   0,   0,   0,   0,   0,   0, 139, 253, 190,\n",
              "           2,   0,   0,   0,   0,   0,   0,   0,   0,   0,   0,   0,   0,   0],\n",
              "        [  0,   0,   0,   0,   0,   0,   0,   0,   0,   0,   0,  11, 190, 253,\n",
              "          70,   0,   0,   0,   0,   0,   0,   0,   0,   0,   0,   0,   0,   0],\n",
              "        [  0,   0,   0,   0,   0,   0,   0,   0,   0,   0,   0,   0,  35, 241,\n",
              "         225, 160, 108,   1,   0,   0,   0,   0,   0,   0,   0,   0,   0,   0],\n",
              "        [  0,   0,   0,   0,   0,   0,   0,   0,   0,   0,   0,   0,   0,  81,\n",
              "         240, 253, 253, 119,  25,   0,   0,   0,   0,   0,   0,   0,   0,   0],\n",
              "        [  0,   0,   0,   0,   0,   0,   0,   0,   0,   0,   0,   0,   0,   0,\n",
              "          45, 186, 253, 253, 150,  27,   0,   0,   0,   0,   0,   0,   0,   0],\n",
              "        [  0,   0,   0,   0,   0,   0,   0,   0,   0,   0,   0,   0,   0,   0,\n",
              "           0,  16,  93, 252, 253, 187,   0,   0,   0,   0,   0,   0,   0,   0],\n",
              "        [  0,   0,   0,   0,   0,   0,   0,   0,   0,   0,   0,   0,   0,   0,\n",
              "           0,   0,   0, 249, 253, 249,  64,   0,   0,   0,   0,   0,   0,   0],\n",
              "        [  0,   0,   0,   0,   0,   0,   0,   0,   0,   0,   0,   0,   0,   0,\n",
              "          46, 130, 183, 253, 253, 207,   2,   0,   0,   0,   0,   0,   0,   0],\n",
              "        [  0,   0,   0,   0,   0,   0,   0,   0,   0,   0,   0,   0,  39, 148,\n",
              "         229, 253, 253, 253, 250, 182,   0,   0,   0,   0,   0,   0,   0,   0],\n",
              "        [  0,   0,   0,   0,   0,   0,   0,   0,   0,   0,  24, 114, 221, 253,\n",
              "         253, 253, 253, 201,  78,   0,   0,   0,   0,   0,   0,   0,   0,   0],\n",
              "        [  0,   0,   0,   0,   0,   0,   0,   0,  23,  66, 213, 253, 253, 253,\n",
              "         253, 198,  81,   2,   0,   0,   0,   0,   0,   0,   0,   0,   0,   0],\n",
              "        [  0,   0,   0,   0,   0,   0,  18, 171, 219, 253, 253, 253, 253, 195,\n",
              "          80,   9,   0,   0,   0,   0,   0,   0,   0,   0,   0,   0,   0,   0],\n",
              "        [  0,   0,   0,   0,  55, 172, 226, 253, 253, 253, 253, 244, 133,  11,\n",
              "           0,   0,   0,   0,   0,   0,   0,   0,   0,   0,   0,   0,   0,   0],\n",
              "        [  0,   0,   0,   0, 136, 253, 253, 253, 212, 135, 132,  16,   0,   0,\n",
              "           0,   0,   0,   0,   0,   0,   0,   0,   0,   0,   0,   0,   0,   0],\n",
              "        [  0,   0,   0,   0,   0,   0,   0,   0,   0,   0,   0,   0,   0,   0,\n",
              "           0,   0,   0,   0,   0,   0,   0,   0,   0,   0,   0,   0,   0,   0],\n",
              "        [  0,   0,   0,   0,   0,   0,   0,   0,   0,   0,   0,   0,   0,   0,\n",
              "           0,   0,   0,   0,   0,   0,   0,   0,   0,   0,   0,   0,   0,   0],\n",
              "        [  0,   0,   0,   0,   0,   0,   0,   0,   0,   0,   0,   0,   0,   0,\n",
              "           0,   0,   0,   0,   0,   0,   0,   0,   0,   0,   0,   0,   0,   0]],\n",
              "       dtype=torch.uint8)"
            ]
          },
          "metadata": {},
          "execution_count": 58
        }
      ]
    },
    {
      "cell_type": "markdown",
      "metadata": {
        "id": "dz6ke_hfl-fF"
      },
      "source": [
        "## Modelo"
      ]
    },
    {
      "cell_type": "code",
      "execution_count": 59,
      "metadata": {
        "ExecuteTime": {
          "end_time": "2017-11-24T22:39:50.422994Z",
          "start_time": "2017-11-24T22:39:50.416568Z"
        },
        "id": "8iCWX43fl-fG"
      },
      "outputs": [],
      "source": [
        "#Criação de uma camada linear com 784 entradas e 10 saídas\n",
        "model = torch.nn.Linear(28*28, 10)"
      ]
    },
    {
      "cell_type": "code",
      "source": [
        "#Pesos e bias inicializados no modelo\n",
        "model.state_dict()"
      ],
      "metadata": {
        "colab": {
          "base_uri": "https://localhost:8080/"
        },
        "id": "fy0F3uQ2QhBT",
        "outputId": "764f18d5-f89a-4573-aa27-8792a23c6e23"
      },
      "execution_count": 60,
      "outputs": [
        {
          "output_type": "execute_result",
          "data": {
            "text/plain": [
              "OrderedDict([('weight',\n",
              "              tensor([[ 0.0239, -0.0248,  0.0301,  ...,  0.0310,  0.0334,  0.0058],\n",
              "                      [-0.0031,  0.0087,  0.0115,  ...,  0.0063, -0.0010,  0.0250],\n",
              "                      [ 0.0156,  0.0106,  0.0243,  ...,  0.0095, -0.0181, -0.0280],\n",
              "                      ...,\n",
              "                      [ 0.0346, -0.0310, -0.0169,  ..., -0.0234,  0.0027,  0.0281],\n",
              "                      [-0.0236, -0.0267,  0.0101,  ..., -0.0189,  0.0135, -0.0188],\n",
              "                      [-0.0357,  0.0187,  0.0037,  ...,  0.0086,  0.0029,  0.0318]])),\n",
              "             ('bias',\n",
              "              tensor([-0.0057, -0.0342, -0.0259, -0.0031, -0.0087,  0.0011,  0.0222,  0.0275,\n",
              "                      -0.0276,  0.0107]))])"
            ]
          },
          "metadata": {},
          "execution_count": 60
        }
      ]
    },
    {
      "cell_type": "code",
      "source": [
        "# Estrutura dos pesos\n",
        "model.weight.shape"
      ],
      "metadata": {
        "colab": {
          "base_uri": "https://localhost:8080/"
        },
        "id": "k3YkiwJBRXHv",
        "outputId": "5e32534b-866d-423a-e05b-94688f18eaa7"
      },
      "execution_count": 61,
      "outputs": [
        {
          "output_type": "execute_result",
          "data": {
            "text/plain": [
              "torch.Size([10, 784])"
            ]
          },
          "metadata": {},
          "execution_count": 61
        }
      ]
    },
    {
      "cell_type": "code",
      "source": [
        "# Pesos associados a o primeiro valor de saída (imagem 0, por exemplo)\n",
        "model.weight[0]"
      ],
      "metadata": {
        "colab": {
          "base_uri": "https://localhost:8080/"
        },
        "id": "_pjcPqGHShz1",
        "outputId": "359b48e6-7c4f-4bf1-cdeb-3b977d9dacf0"
      },
      "execution_count": 62,
      "outputs": [
        {
          "output_type": "execute_result",
          "data": {
            "text/plain": [
              "tensor([ 2.3860e-02, -2.4838e-02,  3.0137e-02, -5.7457e-03, -1.2776e-02,\n",
              "         1.5854e-02, -2.2523e-04,  2.0702e-03, -3.2555e-02, -1.3679e-03,\n",
              "        -7.5700e-03,  2.6172e-02,  1.9699e-02,  2.8698e-02, -1.7056e-02,\n",
              "        -3.0228e-02,  2.4675e-02,  6.9603e-03, -1.8251e-02, -6.2554e-03,\n",
              "        -8.1737e-03,  4.0366e-04,  5.3185e-03, -1.3665e-02,  1.5491e-02,\n",
              "         2.2822e-02, -2.8782e-02,  9.2522e-03,  1.1422e-02, -2.3218e-02,\n",
              "         3.5019e-02, -3.4045e-02, -2.3047e-02, -3.0280e-02,  1.4203e-02,\n",
              "        -3.3994e-02,  2.6722e-02,  9.3662e-03, -1.8742e-02,  2.8057e-02,\n",
              "        -1.7139e-02,  1.2272e-02, -1.4008e-02,  3.2204e-02, -6.2596e-03,\n",
              "        -9.5266e-03,  2.4007e-02,  1.1411e-02,  2.5960e-02, -1.7769e-02,\n",
              "        -5.0362e-03,  2.1172e-02, -1.2901e-02,  3.2776e-03,  3.3917e-02,\n",
              "        -1.7943e-02, -3.3507e-02,  2.5454e-02,  2.7375e-02, -2.4315e-03,\n",
              "         5.6651e-03,  1.3614e-02, -2.8635e-02, -3.0834e-02, -1.0828e-02,\n",
              "         2.5976e-02, -8.5811e-04, -3.5902e-03, -2.7525e-02, -1.6534e-02,\n",
              "         6.5628e-03, -1.3084e-02,  3.3751e-02, -1.6240e-02, -2.9598e-02,\n",
              "         2.8584e-02,  1.6346e-04,  2.2478e-02, -1.9732e-02,  2.4667e-02,\n",
              "        -1.0791e-03,  2.5478e-02,  1.6082e-02, -1.4409e-02, -3.2563e-02,\n",
              "         3.1130e-02,  3.2164e-02, -1.0190e-02, -1.1324e-02, -1.6576e-02,\n",
              "        -1.9243e-02, -2.9054e-02,  2.1532e-02, -1.6440e-02,  3.3627e-02,\n",
              "        -1.4484e-02, -4.4046e-03, -1.3380e-03, -2.4567e-02,  2.9971e-03,\n",
              "         1.5029e-02, -2.7177e-02, -2.5656e-02, -1.2995e-02, -3.1344e-02,\n",
              "        -2.3678e-02, -1.3436e-02,  1.2556e-02,  3.0532e-02,  1.9836e-02,\n",
              "        -2.1776e-02, -3.1077e-02, -1.3881e-02,  3.6213e-03,  1.7535e-02,\n",
              "        -2.4766e-02, -1.1484e-02, -2.9480e-02,  3.0033e-02, -2.8111e-02,\n",
              "         8.1243e-03, -3.3666e-02,  2.2759e-03, -3.1515e-03, -2.4271e-02,\n",
              "        -1.7429e-02, -5.3830e-03,  3.1247e-02,  2.1365e-02,  2.6494e-02,\n",
              "        -2.8630e-02, -6.4951e-03, -3.2701e-02, -1.5997e-02, -2.4860e-02,\n",
              "        -1.8164e-02,  2.4154e-02,  7.0566e-03, -1.3244e-02,  1.1660e-02,\n",
              "        -3.4653e-02,  1.3621e-02,  8.6361e-04, -2.7244e-02, -1.9051e-02,\n",
              "        -1.1115e-02, -1.3267e-02, -3.1824e-03,  1.3003e-02,  1.4965e-02,\n",
              "         1.5202e-02,  7.4316e-03,  1.6524e-02,  1.6406e-02, -2.6194e-02,\n",
              "         3.5601e-02, -2.0083e-02,  8.6470e-03,  2.7861e-03,  1.9179e-02,\n",
              "         2.9422e-02, -4.1769e-03, -1.6786e-02, -5.8361e-03,  2.2819e-02,\n",
              "         3.4849e-02, -6.9129e-03,  2.3758e-02, -2.9546e-02,  3.3918e-02,\n",
              "         2.4884e-02, -4.2577e-03, -2.1621e-02, -1.2818e-02, -6.5339e-03,\n",
              "         8.6985e-03, -8.2128e-03,  3.0275e-02, -2.4373e-02, -2.8303e-03,\n",
              "        -4.6058e-03,  1.4657e-02,  3.0818e-04,  3.1504e-02,  7.3033e-03,\n",
              "        -3.4333e-02,  1.8974e-03,  2.1228e-02, -1.6895e-02,  8.3941e-03,\n",
              "        -2.3685e-02, -1.0514e-03,  3.0804e-02,  7.1991e-03,  9.2778e-04,\n",
              "         2.2225e-02, -2.1727e-02,  9.4178e-03, -2.0115e-02,  1.1012e-02,\n",
              "        -3.1315e-02, -7.4587e-03, -4.3215e-03,  3.9540e-04,  2.4634e-02,\n",
              "         1.7008e-02,  8.0858e-03,  2.7451e-02, -2.8561e-02,  1.4925e-02,\n",
              "        -1.8181e-02, -1.4145e-02, -3.5332e-02,  2.0606e-02,  1.2257e-02,\n",
              "         3.0593e-02, -1.9949e-02, -1.6230e-02, -1.4418e-02,  7.1790e-03,\n",
              "        -1.6841e-02,  1.8704e-02,  3.2104e-02, -1.9598e-02,  1.1128e-02,\n",
              "         2.0176e-02,  2.3667e-02,  2.1073e-02, -1.3789e-02, -2.3878e-02,\n",
              "        -1.1234e-02, -1.4358e-02, -3.0057e-02,  2.0043e-02,  3.3930e-02,\n",
              "        -2.7053e-02,  1.4593e-02,  2.8681e-02, -2.1784e-02,  5.5583e-03,\n",
              "        -2.7732e-02, -5.6254e-03,  1.5567e-02, -4.7071e-03, -2.9125e-02,\n",
              "        -3.4051e-02,  1.4627e-02,  1.4752e-02,  1.0126e-02, -8.8043e-03,\n",
              "         2.3492e-02,  1.7473e-02, -1.8691e-02,  2.1818e-02,  3.1900e-02,\n",
              "        -2.1688e-02, -1.5758e-03, -1.4464e-02,  7.0020e-03, -2.7536e-03,\n",
              "        -2.8091e-02, -2.3266e-02,  3.2805e-02,  2.5179e-03, -3.3338e-02,\n",
              "        -4.6941e-03,  3.9990e-03, -1.7910e-02, -1.9113e-02,  2.1833e-02,\n",
              "         8.1553e-03,  3.5093e-02,  1.2298e-02,  1.0728e-02, -2.8811e-02,\n",
              "        -1.8238e-02,  3.0072e-02,  6.9890e-03,  1.2071e-02, -6.5725e-03,\n",
              "        -6.5321e-03,  2.4476e-02, -2.6638e-02,  6.1835e-03,  3.4888e-02,\n",
              "         3.5432e-02, -1.7360e-02,  9.6644e-03,  1.0574e-02, -3.0497e-02,\n",
              "         2.9199e-02, -3.2023e-03,  2.3967e-02,  1.5039e-02,  9.0304e-03,\n",
              "        -3.1649e-02, -2.1079e-02, -1.3668e-02,  2.1440e-02,  5.8127e-03,\n",
              "         9.6502e-03,  2.4757e-02, -7.1073e-03,  2.0208e-03,  1.8456e-02,\n",
              "        -6.6669e-03,  1.3161e-03, -4.4297e-03, -2.5778e-02, -2.2156e-02,\n",
              "         8.2102e-03, -2.9496e-02,  1.8675e-02,  2.0919e-02,  2.0968e-02,\n",
              "        -2.8891e-02,  2.2496e-03,  2.3867e-02,  8.4838e-03,  6.9552e-03,\n",
              "        -1.7522e-02,  3.4506e-02,  1.1021e-02, -2.9893e-02,  2.2645e-02,\n",
              "        -1.4927e-02,  6.8271e-03, -2.6744e-02, -2.7765e-02,  2.6203e-02,\n",
              "         2.4198e-02, -7.2069e-03,  2.9629e-02, -2.4274e-02, -8.2101e-03,\n",
              "        -1.0491e-02, -2.0328e-02,  3.5302e-02,  1.1793e-02,  1.6395e-02,\n",
              "         4.8813e-03, -2.2863e-02, -1.3463e-02, -2.3563e-02, -1.7383e-02,\n",
              "         6.2878e-03, -2.8186e-02,  1.5398e-02,  2.6081e-02,  1.9542e-02,\n",
              "         2.2712e-02, -2.6300e-02,  1.6156e-02, -2.5795e-02,  1.0725e-02,\n",
              "        -2.1524e-02,  2.7490e-02, -2.7906e-02,  3.2785e-03, -3.3864e-02,\n",
              "        -1.9063e-02,  1.6967e-02, -1.8392e-02, -7.7461e-03, -1.3556e-02,\n",
              "         2.6067e-02, -4.7948e-03, -3.4586e-02, -2.8900e-02,  3.4177e-02,\n",
              "        -1.1267e-02, -2.3214e-02, -2.1933e-02,  5.0622e-03, -9.8688e-03,\n",
              "         1.7566e-02, -1.0867e-02, -2.1656e-02, -1.7430e-02,  1.1679e-02,\n",
              "        -3.4599e-02,  2.8768e-02,  3.1657e-04, -9.6088e-03, -3.2142e-02,\n",
              "         1.3278e-02, -3.0438e-02, -1.5670e-02,  1.1922e-02, -1.9987e-02,\n",
              "         3.4959e-02, -3.3773e-02,  1.7859e-02, -5.7183e-03, -5.6738e-03,\n",
              "        -2.1826e-02, -6.6917e-04,  1.5681e-02, -3.2460e-03, -2.2664e-02,\n",
              "         1.7647e-02, -1.4421e-02, -1.4879e-02,  1.5201e-02, -1.8212e-02,\n",
              "         6.1394e-03, -4.6766e-03, -1.2955e-02, -1.4311e-02, -1.0201e-02,\n",
              "        -2.3774e-02, -3.2892e-02,  2.4070e-02,  2.5819e-02, -2.0142e-02,\n",
              "        -2.9172e-02, -2.8964e-02,  1.1094e-02, -4.9209e-03,  2.2976e-02,\n",
              "        -5.9917e-04, -8.9851e-04, -1.1309e-02, -3.5405e-02, -3.0440e-02,\n",
              "        -2.0594e-02, -9.9198e-03, -2.1355e-02, -4.9276e-03,  2.4504e-02,\n",
              "         1.9300e-02,  2.4703e-02,  3.3660e-02, -8.7721e-03,  1.2003e-02,\n",
              "         3.2465e-02,  4.9571e-03, -2.1988e-02, -5.4298e-03,  8.2931e-03,\n",
              "         4.7997e-03,  2.0429e-02,  2.5760e-02,  2.1986e-02,  2.0999e-02,\n",
              "         3.2918e-02,  1.1667e-02, -9.0559e-03, -3.2704e-02,  3.0148e-02,\n",
              "        -2.2761e-02,  1.5426e-02,  1.9169e-02, -3.2789e-02, -2.3717e-02,\n",
              "         9.2978e-03,  1.4417e-03, -1.8639e-02,  3.5569e-02, -1.7649e-02,\n",
              "         2.2260e-02,  2.3495e-03,  2.5270e-02,  3.4724e-02,  2.3042e-02,\n",
              "        -9.2133e-03, -2.3895e-03, -9.4275e-03, -2.1781e-02, -1.0749e-02,\n",
              "        -3.3826e-02,  8.4071e-03,  1.4758e-02,  1.7166e-02, -1.5371e-03,\n",
              "        -3.3110e-02,  2.7830e-02, -3.5061e-02,  1.0267e-02,  2.6138e-02,\n",
              "        -2.0869e-02,  3.2023e-02,  3.3326e-02, -1.7630e-02, -3.5565e-02,\n",
              "         2.8312e-02, -1.0631e-02, -7.0336e-03,  3.5262e-02,  2.4334e-02,\n",
              "         3.4990e-02, -2.1974e-02,  1.2575e-02,  3.5384e-02, -1.9173e-02,\n",
              "        -2.9214e-02,  1.3185e-02, -5.2606e-03,  2.3307e-02,  1.5149e-02,\n",
              "         3.5123e-02, -1.3173e-02,  2.7741e-02,  3.7534e-03,  2.3057e-02,\n",
              "        -2.7669e-02,  2.8848e-03,  3.8971e-03, -8.0892e-03,  1.4532e-03,\n",
              "        -4.6563e-03,  5.8995e-03, -5.2516e-03,  1.9324e-02,  3.7124e-03,\n",
              "         3.2097e-02,  2.2659e-02, -5.4285e-03, -8.2926e-03, -4.5601e-03,\n",
              "        -2.9914e-02,  2.2351e-02,  1.5428e-02, -2.2740e-03, -7.0751e-03,\n",
              "         1.6979e-02, -2.3681e-02,  1.9396e-02,  2.4204e-03,  1.0124e-02,\n",
              "        -3.4079e-02,  1.6380e-02,  2.2125e-02,  3.2094e-02, -1.8896e-02,\n",
              "        -2.8081e-02, -3.4063e-02, -2.7288e-02,  1.1249e-03, -1.6363e-02,\n",
              "         9.7325e-03, -2.0806e-04,  2.6352e-02,  1.0804e-02, -3.1417e-02,\n",
              "        -1.0986e-02,  3.4565e-02,  2.8493e-02, -1.1461e-02,  5.2943e-03,\n",
              "        -1.7083e-02, -7.4259e-05, -9.7151e-03, -2.8702e-02,  2.1848e-02,\n",
              "        -2.8194e-02,  1.0189e-03, -3.0272e-02, -9.3308e-03,  2.6019e-02,\n",
              "         2.2139e-02, -3.0716e-02, -3.4756e-02, -3.4251e-02, -2.3477e-02,\n",
              "        -1.6083e-02, -2.2628e-02,  2.8705e-02, -3.4667e-02,  3.5520e-02,\n",
              "        -1.4291e-03,  2.6355e-02, -1.0404e-02,  1.9213e-02,  1.7520e-02,\n",
              "        -3.3357e-02,  2.6498e-02,  2.0895e-02, -1.1680e-02,  2.6975e-02,\n",
              "         1.4036e-02, -6.7027e-03,  1.5427e-02,  2.1540e-03, -1.8341e-02,\n",
              "        -6.4312e-03, -3.2755e-03,  2.9305e-02,  2.8987e-02, -1.3442e-03,\n",
              "         2.0060e-02,  1.1112e-02,  2.0776e-02, -1.4763e-02, -3.4187e-02,\n",
              "         2.7385e-03, -1.8516e-02, -1.2613e-02, -2.9466e-02,  2.1794e-02,\n",
              "        -1.3222e-02,  6.2062e-04,  2.1883e-02, -4.7737e-03,  1.2863e-03,\n",
              "         2.9745e-03, -5.1360e-03,  9.5246e-03,  4.2251e-03,  5.4360e-03,\n",
              "        -2.6060e-02,  6.2070e-03,  3.1121e-02,  5.9949e-03, -1.2657e-02,\n",
              "        -1.3919e-02, -1.7709e-03, -1.3559e-03, -1.1877e-02, -7.3150e-03,\n",
              "         3.2085e-02, -2.6973e-02,  4.6947e-03,  2.8509e-02,  5.1297e-03,\n",
              "        -5.7160e-03, -3.4661e-02, -1.9080e-02, -9.5374e-03, -2.5756e-02,\n",
              "        -2.5151e-02, -3.7375e-03, -2.1326e-02,  1.0604e-02,  3.3186e-03,\n",
              "         1.9885e-03,  2.5118e-02,  9.3160e-03,  1.6285e-02, -2.5334e-02,\n",
              "         2.9890e-02,  3.0793e-02,  3.0673e-02, -1.2975e-02,  2.3008e-02,\n",
              "        -1.6756e-03, -8.7797e-03, -4.3474e-03,  1.6715e-02, -1.4754e-02,\n",
              "         1.4573e-03,  5.6737e-03,  3.0339e-02,  3.9482e-03, -1.5132e-03,\n",
              "        -1.4053e-02,  3.5306e-02,  3.1747e-02,  1.9195e-02,  3.2817e-02,\n",
              "        -2.3295e-02, -8.6279e-03, -6.7242e-04, -1.6161e-02,  1.3111e-02,\n",
              "         1.6983e-03, -3.2380e-02,  6.4391e-03, -2.6371e-02,  2.5652e-02,\n",
              "         9.7573e-03, -6.5876e-03, -2.9501e-02, -1.8784e-02, -1.8123e-02,\n",
              "        -1.1525e-02, -2.9793e-02,  3.5234e-02, -4.3664e-03, -2.7170e-03,\n",
              "         1.9127e-02, -1.3479e-02,  1.3452e-02,  2.7927e-02, -5.0272e-03,\n",
              "        -3.3609e-02, -9.6512e-03,  5.4112e-03,  1.3699e-02, -6.9148e-03,\n",
              "        -2.0769e-02,  2.3902e-02, -2.6800e-02, -7.8651e-03, -2.5640e-02,\n",
              "         2.5367e-02,  5.4638e-03,  2.8519e-02,  7.8288e-04,  1.8660e-02,\n",
              "         4.4770e-03,  1.8676e-04, -1.5607e-02, -4.9864e-03,  1.1544e-02,\n",
              "         3.1644e-02,  1.7734e-02, -4.2634e-05,  1.4728e-04,  2.6187e-02,\n",
              "        -1.3691e-02,  1.8319e-02, -2.7365e-02,  2.0095e-02, -2.0402e-02,\n",
              "        -9.7439e-03,  3.2783e-02,  1.2913e-02, -3.0860e-02, -2.4165e-02,\n",
              "         2.5037e-02, -2.6685e-02, -2.3036e-02,  4.5109e-03, -7.2829e-03,\n",
              "         1.9647e-02, -1.2180e-02, -3.2391e-02,  1.9721e-02, -3.2991e-02,\n",
              "         1.8041e-02,  2.5280e-03, -1.3976e-02,  2.3213e-02, -2.5144e-02,\n",
              "         1.9518e-03, -1.0971e-02, -6.6137e-03, -1.7829e-02, -3.4096e-02,\n",
              "        -6.8443e-04, -2.5063e-02,  7.3507e-03,  7.5309e-03,  2.8221e-02,\n",
              "         4.0020e-03,  2.3732e-02, -2.3462e-02,  2.3145e-02, -1.1482e-02,\n",
              "         1.6056e-02, -3.2437e-02,  2.0339e-02,  3.6018e-03, -1.8984e-02,\n",
              "        -6.9118e-04,  3.2127e-02, -3.1989e-02,  3.7578e-03,  1.8022e-02,\n",
              "        -5.6225e-04,  1.6516e-02, -3.7269e-03, -2.0145e-02, -8.6207e-04,\n",
              "        -3.3281e-02, -1.0269e-02, -2.3355e-02, -7.2000e-03, -1.8426e-02,\n",
              "         1.5216e-02,  6.7483e-03, -1.7291e-02, -1.5257e-02, -2.5878e-02,\n",
              "        -3.2869e-03, -2.2036e-03, -2.8611e-02,  5.5537e-03,  6.2006e-03,\n",
              "        -3.3678e-02,  3.1040e-02,  3.3405e-02,  5.7527e-03],\n",
              "       grad_fn=<SelectBackward0>)"
            ]
          },
          "metadata": {},
          "execution_count": 62
        }
      ]
    },
    {
      "cell_type": "code",
      "source": [
        "#Soma dos pesos (Considerando uma entrada com x =1 em todos os valores )\n",
        "model.weight[0].sum()"
      ],
      "metadata": {
        "colab": {
          "base_uri": "https://localhost:8080/"
        },
        "id": "_6oCDLg1S6pX",
        "outputId": "c30b2ada-2f99-4d3c-9ae4-14be490354aa"
      },
      "execution_count": 63,
      "outputs": [
        {
          "output_type": "execute_result",
          "data": {
            "text/plain": [
              "tensor(-0.2695, grad_fn=<SumBackward0>)"
            ]
          },
          "metadata": {},
          "execution_count": 63
        }
      ]
    },
    {
      "cell_type": "code",
      "source": [
        "# Bias do modelo\n",
        "model.bias"
      ],
      "metadata": {
        "colab": {
          "base_uri": "https://localhost:8080/"
        },
        "id": "wTi7gDZOSlLJ",
        "outputId": "9e014110-15d7-42ab-f0f2-70a10c6999ce"
      },
      "execution_count": 64,
      "outputs": [
        {
          "output_type": "execute_result",
          "data": {
            "text/plain": [
              "Parameter containing:\n",
              "tensor([-0.0057, -0.0342, -0.0259, -0.0031, -0.0087,  0.0011,  0.0222,  0.0275,\n",
              "        -0.0276,  0.0107], requires_grad=True)"
            ]
          },
          "metadata": {},
          "execution_count": 64
        }
      ]
    },
    {
      "cell_type": "code",
      "source": [
        "model.bias[0]"
      ],
      "metadata": {
        "colab": {
          "base_uri": "https://localhost:8080/"
        },
        "id": "_ik01E5RSnwA",
        "outputId": "cbd67c3f-98ce-42d8-9809-81802f1df1a8"
      },
      "execution_count": 65,
      "outputs": [
        {
          "output_type": "execute_result",
          "data": {
            "text/plain": [
              "tensor(-0.0057, grad_fn=<SelectBackward0>)"
            ]
          },
          "metadata": {},
          "execution_count": 65
        }
      ]
    },
    {
      "cell_type": "code",
      "source": [
        "#Cálculo manual do valor previsto para a primeira saída\n",
        "model.weight[0].sum() + model.bias[0]"
      ],
      "metadata": {
        "colab": {
          "base_uri": "https://localhost:8080/"
        },
        "id": "dx3nvfZcSrXZ",
        "outputId": "8797c497-9e1e-4c55-a4f9-f8c87d2078d3"
      },
      "execution_count": 66,
      "outputs": [
        {
          "output_type": "execute_result",
          "data": {
            "text/plain": [
              "tensor(-0.2752, grad_fn=<AddBackward0>)"
            ]
          },
          "metadata": {},
          "execution_count": 66
        }
      ]
    },
    {
      "cell_type": "code",
      "execution_count": 67,
      "metadata": {
        "id": "GrIFjo18dZ_L",
        "colab": {
          "base_uri": "https://localhost:8080/"
        },
        "outputId": "ee2d6f59-75b7-4233-a401-1f0ba320e2a9"
      },
      "outputs": [
        {
          "output_type": "stream",
          "name": "stdout",
          "text": [
            "torch.Size([1, 784])\n"
          ]
        },
        {
          "output_type": "execute_result",
          "data": {
            "text/plain": [
              "tensor([[-0.2752,  0.2942, -0.0518,  0.4144,  0.4856, -0.6057, -0.4568, -0.8716,\n",
              "         -0.5191,  1.4383]], grad_fn=<AddmmBackward0>)"
            ]
          },
          "metadata": {},
          "execution_count": 67
        }
      ],
      "source": [
        "#Predict para testar (sem treinamento)\n",
        "\n",
        "#Valor x de entrada como uma matriz 28x28 com todos os valores 1\n",
        "x = torch.ones(28*28).reshape(1, 784)\n",
        "print(x.shape)\n",
        "predict = model(x)\n",
        "predict"
      ]
    },
    {
      "cell_type": "markdown",
      "metadata": {
        "id": "kVDFEZBql-fJ"
      },
      "source": [
        "## Treinamento"
      ]
    },
    {
      "cell_type": "markdown",
      "metadata": {
        "id": "OUAeuSK6l-fJ"
      },
      "source": [
        "### Inicialização dos parâmetros"
      ]
    },
    {
      "cell_type": "code",
      "execution_count": 68,
      "metadata": {
        "ExecuteTime": {
          "end_time": "2017-11-24T22:39:50.433321Z",
          "start_time": "2017-11-24T22:39:50.426167Z"
        },
        "id": "XT5_fSiQl-fK"
      },
      "outputs": [],
      "source": [
        "n_epochs = 5\n",
        "learningRate = 0.5\n",
        "\n",
        "# Utilizaremos CrossEntropyLoss como função de perda\n",
        "criterion = torch.nn.CrossEntropyLoss()\n",
        "\n",
        "# Gradiente descendente\n",
        "optimizer = torch.optim.SGD(model.parameters(), lr=learningRate)"
      ]
    },
    {
      "cell_type": "markdown",
      "metadata": {
        "id": "-OM9OWI6l-fN"
      },
      "source": [
        "### Laço de treinamento dos parâmetros"
      ]
    },
    {
      "cell_type": "code",
      "execution_count": 69,
      "metadata": {
        "ExecuteTime": {
          "end_time": "2017-11-24T22:39:50.984972Z",
          "start_time": "2017-11-24T22:39:50.435673Z"
        },
        "id": "JvNVUUFTl-fQ",
        "colab": {
          "base_uri": "https://localhost:8080/"
        },
        "outputId": "ab90091d-1543-4cce-d7a6-eadf6f1544ae"
      },
      "outputs": [
        {
          "output_type": "stream",
          "name": "stdout",
          "text": [
            " Perda: 0.2766750156879425\n",
            "Época: 1/5, batch= 600 \n",
            " Perda: 0.4217778444290161\n",
            "Época: 2/5, batch= 600 \n",
            " Perda: 0.2537011206150055\n",
            "Época: 3/5, batch= 600 \n",
            " Perda: 0.27106839418411255\n",
            "Época: 4/5, batch= 600 \n",
            " Perda: 0.2909916937351227\n",
            "Época: 5/5, batch= 600 \n"
          ]
        }
      ],
      "source": [
        "epochs100 = []\n",
        "losses100 = []\n",
        "loss_end_epoch=[]\n",
        "x=0\n",
        "\n",
        "total_trained_samples = 0\n",
        "for i in range(n_epochs):\n",
        "    for k,(x_train, y_train) in enumerate(loader_train):\n",
        "        # Transforma a entrada para uma dimensão\n",
        "        inputs = Variable(x_train.view(-1, 28 * 28))\n",
        "        # predict da rede\n",
        "        outputs = model(inputs)\n",
        "\n",
        "        # calcula a perda\n",
        "        loss = criterion(outputs, Variable(y_train))\n",
        "\n",
        "        # zero, backpropagation, ajusta parâmetros pelo gradiente descendente\n",
        "        optimizer.zero_grad()\n",
        "        loss.backward()\n",
        "        optimizer.step()\n",
        "\n",
        "        total_trained_samples += x_train.size(0)\n",
        "        epochs100.append(total_trained_samples / total_samples)\n",
        "        losses100.append(loss.data)\n",
        "\n",
        "        #Imprimir o valor da perda ao final de cada época de treinamento (cada época com será treinada com 600 minibatches)\n",
        "        if k == 599:\n",
        "          x+=1\n",
        "          print(f' Perda: {loss.data}')\n",
        "          print(f'Época: {x}/5, batch= {len(loader_train)} ')\n",
        "\n",
        "\n"
      ]
    },
    {
      "cell_type": "code",
      "execution_count": 70,
      "metadata": {
        "ExecuteTime": {
          "end_time": "2017-11-24T22:39:50.992302Z",
          "start_time": "2017-11-24T22:39:50.987284Z"
        },
        "id": "aYO4bgVwl-fT",
        "colab": {
          "base_uri": "https://localhost:8080/"
        },
        "outputId": "038b490d-2401-4789-e68b-08a87e432f0d"
      },
      "outputs": [
        {
          "output_type": "stream",
          "name": "stdout",
          "text": [
            "Final loss: tensor(0.2910)\n"
          ]
        }
      ],
      "source": [
        "print('Final loss:', loss.data)"
      ]
    },
    {
      "cell_type": "markdown",
      "metadata": {
        "id": "XEhPdkjAl-fX"
      },
      "source": [
        "### Visualizando gráfico de perda durante o treinamento e ao final de cada época"
      ]
    },
    {
      "cell_type": "code",
      "source": [
        "epochs100[599::600]"
      ],
      "metadata": {
        "colab": {
          "base_uri": "https://localhost:8080/"
        },
        "id": "6ByvAEQuQYtY",
        "outputId": "2ca1cce3-e214-4108-fb72-b15d9ce4564d"
      },
      "execution_count": 71,
      "outputs": [
        {
          "output_type": "execute_result",
          "data": {
            "text/plain": [
              "[1.0, 2.0, 3.0, 4.0, 5.0]"
            ]
          },
          "metadata": {},
          "execution_count": 71
        }
      ]
    },
    {
      "cell_type": "code",
      "source": [
        "losses100[599::600]"
      ],
      "metadata": {
        "colab": {
          "base_uri": "https://localhost:8080/"
        },
        "id": "VjZWLwk3QaEh",
        "outputId": "cbaf0643-cb92-4767-a0fb-f204ecf398da"
      },
      "execution_count": 72,
      "outputs": [
        {
          "output_type": "execute_result",
          "data": {
            "text/plain": [
              "[tensor(0.2767),\n",
              " tensor(0.4218),\n",
              " tensor(0.2537),\n",
              " tensor(0.2711),\n",
              " tensor(0.2910)]"
            ]
          },
          "metadata": {},
          "execution_count": 72
        }
      ]
    },
    {
      "cell_type": "code",
      "source": [
        "plt.plot(epochs100, losses100)\n",
        "plt.xlabel('época')\n",
        "\n",
        "plt.plot(epochs100[599::600], losses100[599::600], color='r',marker='x')\n",
        "plt.xlabel('época')\n",
        "plt.legend(['Loss por minibatch','Loss ao final da época'])\n",
        "plt.title('Evolução da perda por minibatch e por época (batchsize=100)')"
      ],
      "metadata": {
        "colab": {
          "base_uri": "https://localhost:8080/",
          "height": 492
        },
        "id": "pooyKwC0XmNV",
        "outputId": "9baf0b1d-669e-4033-f40f-2fc3937cafdf"
      },
      "execution_count": 73,
      "outputs": [
        {
          "output_type": "execute_result",
          "data": {
            "text/plain": [
              "Text(0.5, 1.0, 'Evolução da perda por minibatch e por época (batchsize=100)')"
            ]
          },
          "metadata": {},
          "execution_count": 73
        },
        {
          "output_type": "display_data",
          "data": {
            "text/plain": [
              "<Figure size 640x480 with 1 Axes>"
            ],
            "image/png": "[encoded data removed]"
          },
          "metadata": {}
        }
      ]
    },
    {
      "cell_type": "markdown",
      "metadata": {
        "id": "eHLCXNLml-fg"
      },
      "source": [
        "# Atividades"
      ]
    },
    {
      "cell_type": "markdown",
      "metadata": {
        "id": "ZCs38MOml-fh"
      },
      "source": [
        "## Perguntas"
      ]
    },
    {
      "cell_type": "markdown",
      "metadata": {
        "id": "Ffg58gb7l-fi"
      },
      "source": [
        "1. Qual é o tamanho do mini-batch?\n",
        "**100**\n",
        "2. Em uma época, quantos mini-batches existem?\n",
        "**600 (60000/100)**\n",
        "3. Qual é a definição de época?\n",
        "**Um laço de treinamento onde todos os dados presentes nos minibatches passam pelo predict, cálculo da perda, cálculo do gradiente e atualização dos pesos**"
      ]
    },
    {
      "cell_type": "markdown",
      "metadata": {
        "id": "DourBpfrl-fl"
      },
      "source": [
        "## Exercícios\n"
      ]
    },
    {
      "cell_type": "markdown",
      "metadata": {
        "id": "Vjh3AaNpl-fn"
      },
      "source": [
        "1. Coloque um print no final de cada minibatch, no mesmo estilo do print do final de época, no seguinte estilo:\n",
        "    - Época: 1/4, batch: 600\n",
        "\n",
        "  **Realizado no código acima (Seção: Laço de treinamento de parâmetros)**\n",
        "\n",
        "  2. Altere o tamanho de minibatch (batch_size) algumas vezes, refaça o treinamento, e compare no gráfico abaixo a queda da perda para cada tamanho de minibatch.\n",
        "\n",
        "\n"
      ]
    },
    {
      "cell_type": "markdown",
      "source": [
        "### Exercício 2 batch size = 50"
      ],
      "metadata": {
        "id": "XYCSDNGuNYY-"
      }
    },
    {
      "cell_type": "markdown",
      "metadata": {
        "id": "8SEAB4tRNtni"
      },
      "source": [
        "##### Definição do tamanho do minibatch"
      ]
    },
    {
      "cell_type": "code",
      "execution_count": 74,
      "metadata": {
        "ExecuteTime": {
          "end_time": "2017-11-24T22:39:50.323379Z",
          "start_time": "2017-11-24T22:39:50.318024Z"
        },
        "id": "W0MKVryxNtnj"
      },
      "outputs": [],
      "source": [
        "batch_size = 50"
      ]
    },
    {
      "cell_type": "markdown",
      "metadata": {
        "id": "3ZtR0XQXNtnj"
      },
      "source": [
        "##### Carregamento, criação dataset e do dataloader"
      ]
    },
    {
      "cell_type": "code",
      "execution_count": 75,
      "metadata": {
        "ExecuteTime": {
          "end_time": "2017-11-24T22:39:50.400325Z",
          "start_time": "2017-11-24T22:39:50.326019Z"
        },
        "colab": {
          "base_uri": "https://localhost:8080/"
        },
        "outputId": "88cd1512-dc08-4f7f-fdaf-884689637250",
        "id": "CH7JV6wNNtnj"
      },
      "outputs": [
        {
          "output_type": "stream",
          "name": "stdout",
          "text": [
            "Número de minibatches de trenamento: 1200\n",
            "\n",
            "Dimensões dos dados de um minibatch: torch.Size([50, 1, 28, 28])\n",
            "Valores mínimo e máximo dos pixels:  tensor(0.) tensor(1.)\n",
            "Tipo dos dados das imagens:          <class 'torch.Tensor'>\n",
            "Tipo das classes das imagens:        <class 'torch.Tensor'>\n"
          ]
        }
      ],
      "source": [
        "dataset_dir = 'MNIST/'\n",
        "\n",
        "dataset_train = MNIST(dataset_dir, train=True, download=True,\n",
        "                      transform=torchvision.transforms.ToTensor())\n",
        "\n",
        "loader_train50 = DataLoader(dataset_train, batch_size=batch_size, shuffle=True)\n",
        "\n",
        "\n",
        "print('Número de minibatches de trenamento:', len(loader_train50))\n",
        "\n",
        "x_train, y_train = next(iter(loader_train50))\n",
        "print(\"\\nDimensões dos dados de um minibatch:\", x_train.size())\n",
        "print(\"Valores mínimo e máximo dos pixels: \", torch.min(x_train), torch.max(x_train))\n",
        "print(\"Tipo dos dados das imagens:         \", type(x_train))\n",
        "print(\"Tipo das classes das imagens:       \", type(y_train))"
      ]
    },
    {
      "cell_type": "code",
      "execution_count": 76,
      "metadata": {
        "ExecuteTime": {
          "end_time": "2017-11-24T22:39:50.414117Z",
          "start_time": "2017-11-24T22:39:50.402687Z"
        },
        "colab": {
          "base_uri": "https://localhost:8080/"
        },
        "outputId": "6a3f74f1-dffe-4466-ab35-82398f4d6dbe",
        "id": "j5wXGIkENtnk"
      },
      "outputs": [
        {
          "output_type": "stream",
          "name": "stdout",
          "text": [
            "Número de minibatches de trenamento: 1200\n"
          ]
        }
      ],
      "source": [
        "print('Número de minibatches de trenamento:', len(loader_train50))\n",
        "n_batches_train = len(loader_train50)\n",
        "total_samples = dataset_train.train_data.size(0)"
      ]
    },
    {
      "cell_type": "markdown",
      "source": [
        "#####Criação do modelo"
      ],
      "metadata": {
        "id": "EosVIWLeQhM0"
      }
    },
    {
      "cell_type": "code",
      "execution_count": 77,
      "metadata": {
        "ExecuteTime": {
          "end_time": "2017-11-24T22:39:50.422994Z",
          "start_time": "2017-11-24T22:39:50.416568Z"
        },
        "id": "b3UuCVBJNYg1"
      },
      "outputs": [],
      "source": [
        "#Criação de uma camada linear com 784 entradas e 10 saídas\n",
        "model = torch.nn.Linear(28*28, 10)"
      ]
    },
    {
      "cell_type": "markdown",
      "metadata": {
        "id": "mIpyoyKKNYg5"
      },
      "source": [
        "##### Inicialização dos parâmetros"
      ]
    },
    {
      "cell_type": "code",
      "execution_count": 78,
      "metadata": {
        "ExecuteTime": {
          "end_time": "2017-11-24T22:39:50.433321Z",
          "start_time": "2017-11-24T22:39:50.426167Z"
        },
        "id": "Lan_sveWNYg5"
      },
      "outputs": [],
      "source": [
        "n_epochs = 5\n",
        "learningRate = 0.5\n",
        "\n",
        "# Utilizaremos CrossEntropyLoss como função de perda\n",
        "criterion = torch.nn.CrossEntropyLoss()\n",
        "\n",
        "# Gradiente descendente\n",
        "optimizer = torch.optim.SGD(model.parameters(), lr=learningRate)"
      ]
    },
    {
      "cell_type": "markdown",
      "metadata": {
        "id": "KUJWFk_hNYg5"
      },
      "source": [
        "##### Laço de treinamento dos parâmetros"
      ]
    },
    {
      "cell_type": "code",
      "execution_count": 79,
      "metadata": {
        "ExecuteTime": {
          "end_time": "2017-11-24T22:39:50.984972Z",
          "start_time": "2017-11-24T22:39:50.435673Z"
        },
        "colab": {
          "base_uri": "https://localhost:8080/"
        },
        "outputId": "f6561b6d-7ab9-4ff9-d9bb-b8c1bbdcbf33",
        "id": "GQk3guamNYg5"
      },
      "outputs": [
        {
          "output_type": "stream",
          "name": "stdout",
          "text": [
            " Perda: 0.29876551032066345\n",
            "Época: 1/5, batch= 1200 \n",
            " Perda: 0.11087996512651443\n",
            "Época: 2/5, batch= 1200 \n",
            " Perda: 0.3651593029499054\n",
            "Época: 3/5, batch= 1200 \n",
            " Perda: 0.26055729389190674\n",
            "Época: 4/5, batch= 1200 \n",
            " Perda: 0.133952334523201\n",
            "Época: 5/5, batch= 1200 \n"
          ]
        }
      ],
      "source": [
        "epochs50 = []\n",
        "losses50 = []\n",
        "loss_end_epoch=[]\n",
        "x=0\n",
        "\n",
        "total_trained_samples = 0\n",
        "for i in range(n_epochs):\n",
        "    for k,(x_train, y_train) in enumerate(loader_train50):\n",
        "        # Transforma a entrada para uma dimensão\n",
        "        inputs = Variable(x_train.view(-1, 28 * 28))\n",
        "        # predict da rede\n",
        "        outputs = model(inputs)\n",
        "\n",
        "        # calcula a perda\n",
        "        loss = criterion(outputs, Variable(y_train))\n",
        "\n",
        "        # zero, backpropagation, ajusta parâmetros pelo gradiente descendente\n",
        "        optimizer.zero_grad()\n",
        "        loss.backward()\n",
        "        optimizer.step()\n",
        "\n",
        "        total_trained_samples += x_train.size(0)\n",
        "        epochs50.append(total_trained_samples / total_samples)\n",
        "        losses50.append(loss.data)\n",
        "\n",
        "        if k == (len(loader_train50)-1):\n",
        "          x+=1\n",
        "          print(f' Perda: {loss.data}')\n",
        "          print(f'Época: {x}/5, batch= {len(loader_train50)} ')\n",
        "\n",
        "\n"
      ]
    },
    {
      "cell_type": "code",
      "execution_count": 80,
      "metadata": {
        "ExecuteTime": {
          "end_time": "2017-11-24T22:39:50.992302Z",
          "start_time": "2017-11-24T22:39:50.987284Z"
        },
        "colab": {
          "base_uri": "https://localhost:8080/"
        },
        "id": "zOBB1ToLNYg5",
        "outputId": "70e80e6e-6706-47d2-9315-1f11fb91e6d6"
      },
      "outputs": [
        {
          "output_type": "stream",
          "name": "stdout",
          "text": [
            "Final loss: tensor(0.1340)\n"
          ]
        }
      ],
      "source": [
        "print('Final loss:', loss.data)"
      ]
    },
    {
      "cell_type": "markdown",
      "metadata": {
        "id": "4wKuSJvHQuJs"
      },
      "source": [
        "##### Visualizando gráfico de perda durante o treinamento e ao final de cada época"
      ]
    },
    {
      "cell_type": "code",
      "source": [
        "plt.plot(epochs50, losses50)\n",
        "plt.xlabel('época')\n",
        "\n",
        "plt.plot(epochs50[len(loader_train50)-1::len(loader_train50)], losses50[len(loader_train50)-1::len(loader_train50)], color='r',marker='x')\n",
        "plt.xlabel('época')\n",
        "plt.legend(['Loss por minibatch','Loss ao final da época'])\n",
        "plt.title('Evolução da perda por minibatch e por época (batchsize=50)')"
      ],
      "metadata": {
        "colab": {
          "base_uri": "https://localhost:8080/",
          "height": 492
        },
        "outputId": "f188cdbb-ef0b-44cd-b64f-ef7749b09c57",
        "id": "DX83QamOQuJv"
      },
      "execution_count": 81,
      "outputs": [
        {
          "output_type": "execute_result",
          "data": {
            "text/plain": [
              "Text(0.5, 1.0, 'Evolução da perda por minibatch e por época (batchsize=50)')"
            ]
          },
          "metadata": {},
          "execution_count": 81
        },
        {
          "output_type": "display_data",
          "data": {
            "text/plain": [
              "<Figure size 640x480 with 1 Axes>"
            ],
            "image/png": "[encoded data removed]"
          },
          "metadata": {}
        }
      ]
    },
    {
      "cell_type": "markdown",
      "source": [
        "###Exercício 2 batch size=200"
      ],
      "metadata": {
        "id": "X5KQvUr3Rfut"
      }
    },
    {
      "cell_type": "markdown",
      "metadata": {
        "id": "SgU98ubURjRU"
      },
      "source": [
        "##### Definição do tamanho do minibatch"
      ]
    },
    {
      "cell_type": "code",
      "execution_count": 82,
      "metadata": {
        "ExecuteTime": {
          "end_time": "2017-11-24T22:39:50.323379Z",
          "start_time": "2017-11-24T22:39:50.318024Z"
        },
        "id": "9CEMg2tMRjRV"
      },
      "outputs": [],
      "source": [
        "batch_size = 200"
      ]
    },
    {
      "cell_type": "markdown",
      "metadata": {
        "id": "n1cZmpgkRjRV"
      },
      "source": [
        "##### Carregamento, criação dataset e do dataloader"
      ]
    },
    {
      "cell_type": "code",
      "execution_count": 83,
      "metadata": {
        "ExecuteTime": {
          "end_time": "2017-11-24T22:39:50.400325Z",
          "start_time": "2017-11-24T22:39:50.326019Z"
        },
        "colab": {
          "base_uri": "https://localhost:8080/"
        },
        "outputId": "f67b47a4-ade3-4ff8-c203-43c1c2d51215",
        "id": "YHtHTh0XRjRW"
      },
      "outputs": [
        {
          "output_type": "stream",
          "name": "stdout",
          "text": [
            "Número de minibatches de trenamento: 300\n",
            "\n",
            "Dimensões dos dados de um minibatch: torch.Size([200, 1, 28, 28])\n",
            "Valores mínimo e máximo dos pixels:  tensor(0.) tensor(1.)\n",
            "Tipo dos dados das imagens:          <class 'torch.Tensor'>\n",
            "Tipo das classes das imagens:        <class 'torch.Tensor'>\n"
          ]
        }
      ],
      "source": [
        "dataset_dir = 'MNIST/'\n",
        "\n",
        "dataset_train = MNIST(dataset_dir, train=True, download=True,\n",
        "                      transform=torchvision.transforms.ToTensor())\n",
        "\n",
        "loader_train200 = DataLoader(dataset_train, batch_size=batch_size, shuffle=True)\n",
        "\n",
        "\n",
        "print('Número de minibatches de trenamento:', len(loader_train200))\n",
        "\n",
        "x_train, y_train = next(iter(loader_train200))\n",
        "print(\"\\nDimensões dos dados de um minibatch:\", x_train.size())\n",
        "print(\"Valores mínimo e máximo dos pixels: \", torch.min(x_train), torch.max(x_train))\n",
        "print(\"Tipo dos dados das imagens:         \", type(x_train))\n",
        "print(\"Tipo das classes das imagens:       \", type(y_train))"
      ]
    },
    {
      "cell_type": "code",
      "execution_count": 84,
      "metadata": {
        "ExecuteTime": {
          "end_time": "2017-11-24T22:39:50.414117Z",
          "start_time": "2017-11-24T22:39:50.402687Z"
        },
        "colab": {
          "base_uri": "https://localhost:8080/"
        },
        "outputId": "c053ef81-70f5-498c-9697-ccd567780c9d",
        "id": "ZOi063EjRjRW"
      },
      "outputs": [
        {
          "output_type": "stream",
          "name": "stdout",
          "text": [
            "Número de minibatches de trenamento: 300\n"
          ]
        }
      ],
      "source": [
        "print('Número de minibatches de trenamento:', len(loader_train200))\n",
        "n_batches_train = len(loader_train200)\n",
        "total_samples = dataset_train.train_data.size(0)"
      ]
    },
    {
      "cell_type": "markdown",
      "source": [
        "#####Criação do modelo"
      ],
      "metadata": {
        "id": "tgLw-w76RjRW"
      }
    },
    {
      "cell_type": "code",
      "execution_count": 85,
      "metadata": {
        "ExecuteTime": {
          "end_time": "2017-11-24T22:39:50.422994Z",
          "start_time": "2017-11-24T22:39:50.416568Z"
        },
        "id": "EbtMB5ErRjRX"
      },
      "outputs": [],
      "source": [
        "#Criação de uma camada linear com 784 entradas e 10 saídas\n",
        "model = torch.nn.Linear(28*28, 10)"
      ]
    },
    {
      "cell_type": "markdown",
      "metadata": {
        "id": "qFg2iDACRjRX"
      },
      "source": [
        "##### Inicialização dos parâmetros"
      ]
    },
    {
      "cell_type": "code",
      "execution_count": 86,
      "metadata": {
        "ExecuteTime": {
          "end_time": "2017-11-24T22:39:50.433321Z",
          "start_time": "2017-11-24T22:39:50.426167Z"
        },
        "id": "ax-3rQx8RjRX"
      },
      "outputs": [],
      "source": [
        "n_epochs = 5\n",
        "learningRate = 0.5\n",
        "\n",
        "# Utilizaremos CrossEntropyLoss como função de perda\n",
        "criterion = torch.nn.CrossEntropyLoss()\n",
        "\n",
        "# Gradiente descendente\n",
        "optimizer = torch.optim.SGD(model.parameters(), lr=learningRate)"
      ]
    },
    {
      "cell_type": "markdown",
      "metadata": {
        "id": "rxkcshKVRjRX"
      },
      "source": [
        "##### Laço de treinamento dos parâmetros"
      ]
    },
    {
      "cell_type": "code",
      "execution_count": 87,
      "metadata": {
        "ExecuteTime": {
          "end_time": "2017-11-24T22:39:50.984972Z",
          "start_time": "2017-11-24T22:39:50.435673Z"
        },
        "colab": {
          "base_uri": "https://localhost:8080/"
        },
        "outputId": "b909437f-33df-4496-a942-41bc985bbbf8",
        "id": "-4ZRB1XORjRX"
      },
      "outputs": [
        {
          "output_type": "stream",
          "name": "stdout",
          "text": [
            " Perda: 0.21902260184288025\n",
            "Época: 1/5, batch= 300 \n",
            " Perda: 0.24996688961982727\n",
            "Época: 2/5, batch= 300 \n",
            " Perda: 0.2603747546672821\n",
            "Época: 3/5, batch= 300 \n",
            " Perda: 0.2907443940639496\n",
            "Época: 4/5, batch= 300 \n",
            " Perda: 0.48327431082725525\n",
            "Época: 5/5, batch= 300 \n"
          ]
        }
      ],
      "source": [
        "epochs200 = []\n",
        "losses200 = []\n",
        "loss_end_epoch=[]\n",
        "x=0\n",
        "\n",
        "total_trained_samples = 0\n",
        "for i in range(n_epochs):\n",
        "    for k,(x_train, y_train) in enumerate(loader_train200):\n",
        "        # Transforma a entrada para uma dimensão\n",
        "        inputs = Variable(x_train.view(-1, 28 * 28))\n",
        "        # predict da rede\n",
        "        outputs = model(inputs)\n",
        "\n",
        "        # calcula a perda\n",
        "        loss = criterion(outputs, Variable(y_train))\n",
        "\n",
        "        # zero, backpropagation, ajusta parâmetros pelo gradiente descendente\n",
        "        optimizer.zero_grad()\n",
        "        loss.backward()\n",
        "        optimizer.step()\n",
        "\n",
        "        total_trained_samples += x_train.size(0)\n",
        "        epochs200.append(total_trained_samples / total_samples)\n",
        "        losses200.append(loss.data)\n",
        "\n",
        "        if k == (len(loader_train200)-1):\n",
        "          x+=1\n",
        "          print(f' Perda: {loss.data}')\n",
        "          print(f'Época: {x}/5, batch= {len(loader_train200)} ')\n",
        "\n",
        "\n"
      ]
    },
    {
      "cell_type": "code",
      "execution_count": 88,
      "metadata": {
        "ExecuteTime": {
          "end_time": "2017-11-24T22:39:50.992302Z",
          "start_time": "2017-11-24T22:39:50.987284Z"
        },
        "colab": {
          "base_uri": "https://localhost:8080/"
        },
        "outputId": "ca9df2eb-2710-4c7c-f6f8-29c4da9d9eae",
        "id": "hpPE_PIiRjRX"
      },
      "outputs": [
        {
          "output_type": "stream",
          "name": "stdout",
          "text": [
            "Final loss: tensor(0.4833)\n"
          ]
        }
      ],
      "source": [
        "print('Final loss:', loss.data)"
      ]
    },
    {
      "cell_type": "markdown",
      "source": [],
      "metadata": {
        "id": "hVO1jauKRjRY"
      }
    },
    {
      "cell_type": "markdown",
      "metadata": {
        "id": "0_7LbYF2RjRY"
      },
      "source": [
        "##### Visualizando gráfico de perda durante o treinamento e ao final de cada época"
      ]
    },
    {
      "cell_type": "code",
      "source": [
        "plt.plot(epochs200, losses200)\n",
        "plt.xlabel('época')\n",
        "\n",
        "plt.plot(epochs200[len(loader_train200)-1::len(loader_train200)], losses200[len(loader_train200)-1::len(loader_train200)], color='r',marker='x')\n",
        "plt.xlabel('época')\n",
        "plt.legend(['Loss por minibatch','Loss ao final da época'])\n",
        "\n",
        "plt.title('Evolução da perda por minibatch e por época (batchsize=200)')"
      ],
      "metadata": {
        "colab": {
          "base_uri": "https://localhost:8080/",
          "height": 492
        },
        "outputId": "ffc8fe03-9d2d-4287-de1b-6d3227b5d9ea",
        "id": "YGy6O3TlRjRZ"
      },
      "execution_count": 89,
      "outputs": [
        {
          "output_type": "execute_result",
          "data": {
            "text/plain": [
              "Text(0.5, 1.0, 'Evolução da perda por minibatch e por época (batchsize=200)')"
            ]
          },
          "metadata": {},
          "execution_count": 89
        },
        {
          "output_type": "display_data",
          "data": {
            "text/plain": [
              "<Figure size 640x480 with 1 Axes>"
            ],
            "image/png": "[encoded data removed]"
          },
          "metadata": {}
        }
      ]
    },
    {
      "cell_type": "markdown",
      "source": [
        "###Exercício 2 batch size = 300"
      ],
      "metadata": {
        "id": "nbNRWx2rRmZT"
      }
    },
    {
      "cell_type": "markdown",
      "metadata": {
        "id": "EVLRGl8LRoap"
      },
      "source": [
        "##### Definição do tamanho do minibatch"
      ]
    },
    {
      "cell_type": "code",
      "execution_count": 90,
      "metadata": {
        "ExecuteTime": {
          "end_time": "2017-11-24T22:39:50.323379Z",
          "start_time": "2017-11-24T22:39:50.318024Z"
        },
        "id": "TmLWAx02Roaq"
      },
      "outputs": [],
      "source": [
        "batch_size = 300"
      ]
    },
    {
      "cell_type": "markdown",
      "metadata": {
        "id": "O0EgwnIvRoaq"
      },
      "source": [
        "##### Carregamento, criação dataset e do dataloader"
      ]
    },
    {
      "cell_type": "code",
      "execution_count": 91,
      "metadata": {
        "ExecuteTime": {
          "end_time": "2017-11-24T22:39:50.400325Z",
          "start_time": "2017-11-24T22:39:50.326019Z"
        },
        "colab": {
          "base_uri": "https://localhost:8080/"
        },
        "outputId": "5fceb8b0-3250-487b-d5cf-40f03de3658a",
        "id": "L9qU0HUhRoaq"
      },
      "outputs": [
        {
          "output_type": "stream",
          "name": "stdout",
          "text": [
            "Número de minibatches de trenamento: 200\n",
            "\n",
            "Dimensões dos dados de um minibatch: torch.Size([300, 1, 28, 28])\n",
            "Valores mínimo e máximo dos pixels:  tensor(0.) tensor(1.)\n",
            "Tipo dos dados das imagens:          <class 'torch.Tensor'>\n",
            "Tipo das classes das imagens:        <class 'torch.Tensor'>\n"
          ]
        }
      ],
      "source": [
        "dataset_dir = 'MNIST/'\n",
        "\n",
        "dataset_train = MNIST(dataset_dir, train=True, download=True,\n",
        "                      transform=torchvision.transforms.ToTensor())\n",
        "\n",
        "loader_train300 = DataLoader(dataset_train, batch_size=batch_size, shuffle=True)\n",
        "\n",
        "\n",
        "print('Número de minibatches de trenamento:', len(loader_train300))\n",
        "\n",
        "x_train, y_train = next(iter(loader_train300))\n",
        "print(\"\\nDimensões dos dados de um minibatch:\", x_train.size())\n",
        "print(\"Valores mínimo e máximo dos pixels: \", torch.min(x_train), torch.max(x_train))\n",
        "print(\"Tipo dos dados das imagens:         \", type(x_train))\n",
        "print(\"Tipo das classes das imagens:       \", type(y_train))"
      ]
    },
    {
      "cell_type": "code",
      "execution_count": 92,
      "metadata": {
        "ExecuteTime": {
          "end_time": "2017-11-24T22:39:50.414117Z",
          "start_time": "2017-11-24T22:39:50.402687Z"
        },
        "colab": {
          "base_uri": "https://localhost:8080/"
        },
        "outputId": "2f9ed923-e4f3-4962-917f-cc1c208878b3",
        "id": "sQQEHnYnRoaq"
      },
      "outputs": [
        {
          "output_type": "stream",
          "name": "stdout",
          "text": [
            "Número de minibatches de trenamento: 200\n"
          ]
        }
      ],
      "source": [
        "print('Número de minibatches de trenamento:', len(loader_train300))\n",
        "n_batches_train = len(loader_train300)\n",
        "total_samples = dataset_train.train_data.size(0)"
      ]
    },
    {
      "cell_type": "markdown",
      "source": [
        "#####Criação do modelo"
      ],
      "metadata": {
        "id": "F12BHisaRoar"
      }
    },
    {
      "cell_type": "code",
      "execution_count": 93,
      "metadata": {
        "ExecuteTime": {
          "end_time": "2017-11-24T22:39:50.422994Z",
          "start_time": "2017-11-24T22:39:50.416568Z"
        },
        "id": "tULlerPARoar"
      },
      "outputs": [],
      "source": [
        "#Criação de uma camada linear com 784 entradas e 10 saídas\n",
        "model = torch.nn.Linear(28*28, 10)"
      ]
    },
    {
      "cell_type": "markdown",
      "metadata": {
        "id": "AC03h5aPRoar"
      },
      "source": [
        "##### Inicialização dos parâmetros"
      ]
    },
    {
      "cell_type": "code",
      "execution_count": 94,
      "metadata": {
        "ExecuteTime": {
          "end_time": "2017-11-24T22:39:50.433321Z",
          "start_time": "2017-11-24T22:39:50.426167Z"
        },
        "id": "7qo6iifpRoar"
      },
      "outputs": [],
      "source": [
        "n_epochs = 5\n",
        "learningRate = 0.5\n",
        "\n",
        "# Utilizaremos CrossEntropyLoss como função de perda\n",
        "criterion = torch.nn.CrossEntropyLoss()\n",
        "\n",
        "# Gradiente descendente\n",
        "optimizer = torch.optim.SGD(model.parameters(), lr=learningRate)"
      ]
    },
    {
      "cell_type": "markdown",
      "metadata": {
        "id": "yLOzVkBfRoar"
      },
      "source": [
        "##### Laço de treinamento dos parâmetros"
      ]
    },
    {
      "cell_type": "code",
      "execution_count": 95,
      "metadata": {
        "ExecuteTime": {
          "end_time": "2017-11-24T22:39:50.984972Z",
          "start_time": "2017-11-24T22:39:50.435673Z"
        },
        "id": "r-s5KIDsRoas"
      },
      "outputs": [],
      "source": [
        "epochs300 = []\n",
        "losses300 = []\n",
        "loss_end_epoch=[]\n",
        "x=0\n",
        "\n",
        "total_trained_samples = 0\n",
        "for i in range(n_epochs):\n",
        "    for k,(x_train, y_train) in enumerate(loader_train300):\n",
        "        # Transforma a entrada para uma dimensão\n",
        "        inputs = Variable(x_train.view(-1, 28 * 28))\n",
        "        # predict da rede\n",
        "        outputs = model(inputs)\n",
        "\n",
        "        # calcula a perda\n",
        "        loss = criterion(outputs, Variable(y_train))\n",
        "\n",
        "        # zero, backpropagation, ajusta parâmetros pelo gradiente descendente\n",
        "        optimizer.zero_grad()\n",
        "        loss.backward()\n",
        "        optimizer.step()\n",
        "\n",
        "        total_trained_samples += x_train.size(0)\n",
        "        epochs300.append(total_trained_samples / total_samples)\n",
        "        losses300.append(loss.data)\n",
        "\n",
        "        if k == (len(loader_train)-1):\n",
        "          x+=1\n",
        "          print(f' Perda: {loss.data}')\n",
        "          print(f'Época: {x}/5, batch= {len(loader_train300)} ')\n",
        "\n",
        "\n"
      ]
    },
    {
      "cell_type": "code",
      "execution_count": 96,
      "metadata": {
        "ExecuteTime": {
          "end_time": "2017-11-24T22:39:50.992302Z",
          "start_time": "2017-11-24T22:39:50.987284Z"
        },
        "colab": {
          "base_uri": "https://localhost:8080/"
        },
        "outputId": "0fa4f517-d80a-4e2f-f2b6-2eb22f4d3006",
        "id": "xkaGEg_VRoas"
      },
      "outputs": [
        {
          "output_type": "stream",
          "name": "stdout",
          "text": [
            "Final loss: tensor(0.3386)\n"
          ]
        }
      ],
      "source": [
        "print('Final loss:', loss.data)"
      ]
    },
    {
      "cell_type": "markdown",
      "source": [],
      "metadata": {
        "id": "qYdLl2zbRoas"
      }
    },
    {
      "cell_type": "markdown",
      "metadata": {
        "id": "lmJO5bhTRoas"
      },
      "source": [
        "##### Visualizando gráfico de perda durante o treinamento e ao final de cada época"
      ]
    },
    {
      "cell_type": "code",
      "source": [
        "plt.plot(epochs300, losses300)\n",
        "plt.xlabel('época')\n",
        "\n",
        "plt.plot(epochs300[len(loader_train300)-1::len(loader_train300)], losses300[len(loader_train300)-1::len(loader_train300)], color='r',marker='x')\n",
        "plt.xlabel('época')\n",
        "plt.legend(['Loss por minibatch','Loss ao final da época'])\n",
        "plt.title('Evolução da perda por minibatch e por época (batchsize=300)')"
      ],
      "metadata": {
        "colab": {
          "base_uri": "https://localhost:8080/",
          "height": 492
        },
        "outputId": "fcbc4f5f-af38-43db-b1bd-3413c8ad0030",
        "id": "qk1roSpERoau"
      },
      "execution_count": 97,
      "outputs": [
        {
          "output_type": "execute_result",
          "data": {
            "text/plain": [
              "Text(0.5, 1.0, 'Evolução da perda por minibatch e por época (batchsize=300)')"
            ]
          },
          "metadata": {},
          "execution_count": 97
        },
        {
          "output_type": "display_data",
          "data": {
            "text/plain": [
              "<Figure size 640x480 with 1 Axes>"
            ],
            "image/png": "[encoded data removed]"
          },
          "metadata": {}
        }
      ]
    },
    {
      "cell_type": "markdown",
      "source": [
        "##Exercício 2 - Comparativo dos gráficos"
      ],
      "metadata": {
        "id": "HUVsIKB3nCDI"
      }
    },
    {
      "cell_type": "code",
      "source": [
        "fig, ax = plt.subplots(1,4, tight_layout=True, figsize=(20,5))\n",
        "\n",
        "ax[0].set_title('Batch size = 50')\n",
        "ax[0].plot(epochs50, losses50)\n",
        "ax[0].set_xlabel('época')\n",
        "\n",
        "ax[0].plot(epochs50[len(loader_train50)-1::len(loader_train50)], losses50[len(loader_train50)-1::len(loader_train50)], color='r',marker='x')\n",
        "ax[0].set_xlabel('época')\n",
        "ax[0].legend(['Loss por minibatch','Loss ao final de cada época'])\n",
        "\n",
        "ax[1].set_title('Batch size = 100')\n",
        "ax[1].plot(epochs100, losses100)\n",
        "ax[1].set_xlabel('época')\n",
        "\n",
        "ax[1].plot(epochs100[len(loader_train)-1::len(loader_train)], losses100[len(loader_train)-1::len(loader_train)], color='r',marker='x')\n",
        "ax[1].set_xlabel('época')\n",
        "ax[1].legend(['Loss por minibatch','Loss ao final de cada época'])\n",
        "\n",
        "ax[2].set_title('Batch size = 200')\n",
        "ax[2].plot(epochs200, losses200)\n",
        "ax[2].set_xlabel('época')\n",
        "\n",
        "ax[2].plot(epochs200[len(loader_train200)-1::len(loader_train200)], losses200[len(loader_train200)-1::len(loader_train200)], color='r',marker='x')\n",
        "ax[2].set_xlabel('época')\n",
        "ax[2].legend(['Loss por minibatch','Loss ao final de cada época'])\n",
        "\n",
        "ax[3].set_title('Batch size = 300')\n",
        "ax[3].plot(epochs300, losses300)\n",
        "ax[3].set_xlabel('época')\n",
        "\n",
        "ax[3].plot(epochs300[len(loader_train300)-1::len(loader_train300)], losses300[len(loader_train300)-1::len(loader_train300)], color='r',marker='x')\n",
        "ax[3].set_xlabel('época')\n",
        "ax[3].legend(['Loss por minibatch','Loss ao final de cada época'])"
      ],
      "metadata": {
        "colab": {
          "base_uri": "https://localhost:8080/",
          "height": 526
        },
        "id": "xt9sWBQKnBJC",
        "outputId": "c04be7ae-979a-4dcd-979f-904a26522215"
      },
      "execution_count": 98,
      "outputs": [
        {
          "output_type": "execute_result",
          "data": {
            "text/plain": [
              "<matplotlib.legend.Legend at 0x7c5ed3eb9a50>"
            ]
          },
          "metadata": {},
          "execution_count": 98
        },
        {
          "output_type": "display_data",
          "data": {
            "text/plain": [
              "<Figure size 2000x500 with 4 Axes>"
            ],
            "image/png": "[encoded data removed]"
          },
          "metadata": {}
        }
      ]
    },
    {
      "cell_type": "markdown",
      "source": [
        "#Comentários\n",
        "\n",
        "https://pytorch.org/tutorials/beginner/basics/data_tutorial.html\n",
        "\n",
        "O trabalho com grandes conjuntos de dados necessários para treinar modelos de deep learning pode ser complexo e computacionalmente exigente. O PyTorch oferece duas primitivas de dados, conjuntos de dados e dataloaders para facilitar o carregamento de dados e tornar o código mais legível.\n",
        "\n",
        "torch.utils.data.Dataset armazena amostras de dados e seus rótulos correspondentes torch.utils.data.Dataloader envolve um iterável, objeto que pode ser operado, em torno do conjunto de dados para facilitar o acesso às amostras\n",
        "\n",
        "Dataset é uma abstração para preparar os dados anotados para a rede (entrada,target).\n",
        "Dataloader define a forma de construir mini-batches a serem utilizados no laço de treinamento.\n",
        "É através do Dataloader que o PyTorch implementa o gradiente descendente estocástico por mini-batches\n",
        "\n",
        "**O aumento no tamanho do minibatch impactou o comportamento da perda ao longo dos treinamentos. Nesse caso em análise, o aumento do batch size de 50 para 300 diminuiu a oscilação da perda ao longo dos minibatches que eram treinados. A medida que o tamanho do minibatch aumenta, o ajuste dos pesos é feito com amostras maiores e menos treinamentos por época**"
      ],
      "metadata": {
        "id": "4bo_SVheUS79"
      }
    },
    {
      "cell_type": "code",
      "source": [],
      "metadata": {
        "id": "EWJ20kCisCUQ"
      },
      "execution_count": 98,
      "outputs": []
    },
    {
      "cell_type": "code",
      "source": [],
      "metadata": {
        "id": "Qe9-vsMTUUdE"
      },
      "execution_count": 98,
      "outputs": []
    }
  ],
  "metadata": {
    "colab": {
      "provenance": [],
      "toc_visible": true,
      "collapsed_sections": [
        "XYCSDNGuNYY-",
        "X5KQvUr3Rfut",
        "nbNRWx2rRmZT"
      ]
    },
    "kernelspec": {
      "display_name": "Python 3",
      "name": "python3"
    },
    "language_info": {
      "name": "python",
      "version": "3.10.2"
    },
    "vscode": {
      "interpreter": {
        "hash": "5fe3e6f0cdaab8afdc61c52912fda83f7c0a71baaea1897dd7498e2df01e69ec"
      }
    }
  },
  "nbformat": 4,
  "nbformat_minor": 0
}